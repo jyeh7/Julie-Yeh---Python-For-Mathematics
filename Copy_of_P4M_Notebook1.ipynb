{
  "nbformat": 4,
  "nbformat_minor": 0,
  "metadata": {
    "colab": {
      "provenance": []
    },
    "kernelspec": {
      "display_name": "Python 3",
      "language": "python",
      "name": "python3"
    },
    "language_info": {
      "codemirror_mode": {
        "name": "ipython",
        "version": 3
      },
      "file_extension": ".py",
      "mimetype": "text/x-python",
      "name": "python",
      "nbconvert_exporter": "python",
      "pygments_lexer": "ipython3",
      "version": "3.6.7"
    }
  },
  "cells": [
    {
      "cell_type": "markdown",
      "metadata": {
        "id": "aLsfIWSoU5x_"
      },
      "source": [
        "#  Computing with Python:  an Introduction"
      ]
    },
    {
      "cell_type": "markdown",
      "metadata": {
        "id": "AXTRG_T1U5yD"
      },
      "source": [
        "Welcome to programming!\n",
        "\n",
        "What is the difference between *Python* and a calculator?  We begin this first lesson by showing how Python can be used **as** a calculator, and we move into one of the most important programming structures -- the **loop**.  Loops allow computers to carry out repetetive computations, with just a few commands.\n",
        "\n",
        "To navigate this notebook, you might wish to click on the Table of Contents icon (near top-left of the Google Colab window).  Then you can expand the sections to work on each one.\n",
        "\n",
        "Remember to save your work frequently on your personal GitHub repository."
      ]
    },
    {
      "cell_type": "markdown",
      "metadata": {
        "id": "-y8Iz5LaU5yD"
      },
      "source": [
        "# Python as a calculator"
      ]
    },
    {
      "cell_type": "markdown",
      "metadata": {
        "id": "6rbqov7pU5yE"
      },
      "source": [
        "Different kinds of data are stored as different *types* in Python.  For example, if you wish to work with integers, your data is typically stored as an *int*.  A real number might be stored as a *float*.  There are types for booleans (True/False data), strings (like \"Hello World!\"), and many more we will see.  \n",
        "\n",
        "A more complete reference for Python's numerical types and arithmetic operations can be found in the [official Python documentation](https://docs.python.org/3/library/stdtypes.html).  The [official Python tutorial](https://docs.python.org/3/tutorial/introduction.html) is also a great place to start.\n",
        "\n",
        "Python allows you to perform arithmetic operations:  addition, subtraction, multiplication, and division, on numerical types.  The operation symbols are `+`, `-`, `*`, and `/`.   Evaluate each of the following cells to see how Python performs operations on *integers*.  \n",
        "\n",
        "To evaluate the cell, click anywhere within the cell to select it and use the keyboard shortcut *Shift-Enter* to evaluate.  But as you go through this and later lessons, try to *predict* what will happen when you evaluate the cell before you hit Shift-Enter.  Don't just click click click!  Think for a few seconds or a minute, and then Shift-Enter."
      ]
    },
    {
      "cell_type": "code",
      "metadata": {
        "colab": {
          "base_uri": "https://localhost:8080/"
        },
        "id": "yqyWbMp-U5yE",
        "scrolled": true,
        "outputId": "1b326b90-029e-40a7-e699-abd62471ea91"
      },
      "source": [
        "2 + 3"
      ],
      "execution_count": null,
      "outputs": [
        {
          "output_type": "execute_result",
          "data": {
            "text/plain": [
              "5"
            ]
          },
          "metadata": {
            "tags": []
          },
          "execution_count": 1
        }
      ]
    },
    {
      "cell_type": "code",
      "metadata": {
        "colab": {
          "base_uri": "https://localhost:8080/"
        },
        "id": "ITtBZC2kU5yE",
        "scrolled": true,
        "outputId": "929e2f83-ee34-4069-e4a6-13a5035e98c7"
      },
      "source": [
        "2 * 3"
      ],
      "execution_count": null,
      "outputs": [
        {
          "output_type": "execute_result",
          "data": {
            "text/plain": [
              "6"
            ]
          },
          "metadata": {
            "tags": []
          },
          "execution_count": 2
        }
      ]
    },
    {
      "cell_type": "code",
      "metadata": {
        "colab": {
          "base_uri": "https://localhost:8080/"
        },
        "id": "mS2JIy1oU5yE",
        "outputId": "c272248f-0fdb-43ec-f3f5-8177fa010873"
      },
      "source": [
        "5 - 11"
      ],
      "execution_count": null,
      "outputs": [
        {
          "output_type": "execute_result",
          "data": {
            "text/plain": [
              "-6"
            ]
          },
          "metadata": {
            "tags": []
          },
          "execution_count": 3
        }
      ]
    },
    {
      "cell_type": "code",
      "metadata": {
        "colab": {
          "base_uri": "https://localhost:8080/"
        },
        "id": "WRjeVm8rU5yF",
        "outputId": "18bbb6af-27c4-4cb4-c54e-e05e845ea635"
      },
      "source": [
        "5.0 - 11"
      ],
      "execution_count": null,
      "outputs": [
        {
          "output_type": "execute_result",
          "data": {
            "text/plain": [
              "-6.0"
            ]
          },
          "metadata": {
            "tags": []
          },
          "execution_count": 4
        }
      ]
    },
    {
      "cell_type": "code",
      "metadata": {
        "colab": {
          "base_uri": "https://localhost:8080/"
        },
        "id": "Q9pdWY_hU5yF",
        "outputId": "6ce9dece-790f-43ba-969a-c16fa27d87fb"
      },
      "source": [
        "5 / 11"
      ],
      "execution_count": null,
      "outputs": [
        {
          "output_type": "execute_result",
          "data": {
            "text/plain": [
              "0.45454545454545453"
            ]
          },
          "metadata": {
            "tags": []
          },
          "execution_count": 5
        }
      ]
    },
    {
      "cell_type": "code",
      "metadata": {
        "colab": {
          "base_uri": "https://localhost:8080/"
        },
        "id": "TPzva1UXU5yF",
        "outputId": "c0518fb0-a181-45d2-ac6e-002edf4203e6"
      },
      "source": [
        "6 / 3"
      ],
      "execution_count": null,
      "outputs": [
        {
          "output_type": "execute_result",
          "data": {
            "text/plain": [
              "2.0"
            ]
          },
          "metadata": {
            "tags": []
          },
          "execution_count": 11
        }
      ]
    },
    {
      "cell_type": "code",
      "metadata": {
        "colab": {
          "base_uri": "https://localhost:8080/"
        },
        "id": "GUmGnpHVU5yF",
        "outputId": "376360fa-44b9-48e6-d35d-3ec73387305f"
      },
      "source": [
        "5 // 11"
      ],
      "execution_count": null,
      "outputs": [
        {
          "output_type": "execute_result",
          "data": {
            "text/plain": [
              "0"
            ]
          },
          "metadata": {
            "tags": []
          },
          "execution_count": 7
        }
      ]
    },
    {
      "cell_type": "code",
      "metadata": {
        "colab": {
          "base_uri": "https://localhost:8080/"
        },
        "id": "JEXb5uPQU5yF",
        "outputId": "d5ce0f4f-f93a-4937-e090-97cd321fa922"
      },
      "source": [
        "6 // 3"
      ],
      "execution_count": null,
      "outputs": [
        {
          "output_type": "execute_result",
          "data": {
            "text/plain": [
              "2"
            ]
          },
          "metadata": {
            "tags": []
          },
          "execution_count": 8
        }
      ]
    },
    {
      "cell_type": "markdown",
      "metadata": {
        "id": "o4t4Yw_XU5yF"
      },
      "source": [
        "The results are probably not too surprising, though the last two require a bit of explanation.  Python *interprets* the input number 5 as an *int* (integer) and 5.0 as a *float*.  \"Float\" stands for \"floating point number,\" which are decimal approximations to real numbers.  The word \"float\" refers to the fact that the decimal (or binary, for computers) point can float around (as in 1.2345 or 12.345 or 123.45 or 1234.5 or 0.00012345).  There are deep computational issues related to how computers handle decimal approximations, and you can [read about the IEEE standards](https://en.wikipedia.org/wiki/IEEE_754) if you're interested.\n",
        "\n",
        "Python enables different kinds of division.  The single-slash division in Python 3.x gives a floating point approximation of the quotient.  That's why `5 / 11` and `6 / 3` both output floats.  On the other hand, `5 // 11` and `6 // 3` yield integer outputs (rounding down) -- this is useful, but one has to be careful!\n",
        "\n",
        "In fact the designers of Python changed their mind.  **This tutorial assumes that you are using Python 3.x.**  If you are using Python 2.x, the command `5 / 11` would output zero."
      ]
    },
    {
      "cell_type": "code",
      "metadata": {
        "colab": {
          "base_uri": "https://localhost:8080/"
        },
        "id": "msOx7ga_U5yF",
        "outputId": "d4ceede0-b346-4e2a-f284-0cdc18a59fbd"
      },
      "source": [
        "-12 // 5  # What will this output?  Guess before evaluating!"
      ],
      "execution_count": null,
      "outputs": [
        {
          "output_type": "execute_result",
          "data": {
            "text/plain": [
              "-3"
            ]
          },
          "metadata": {
            "tags": []
          },
          "execution_count": 9
        }
      ]
    },
    {
      "cell_type": "markdown",
      "metadata": {
        "id": "6m4OcRYfU5yG"
      },
      "source": [
        "Why use integer division `//` and why use floating point division?  In practice, integer division is typically a faster operation.  So if you only need the rounded result (and that will often be the case), use integer division.  It will run much faster than carrying out floating point division then manually rounding down.\n",
        "\n",
        "Observe that floating point operations involve approximation.  The result of `5.0/11.0` might not be what you expect in the last digit.  Over time, especially with repeated operations, *floating point approximation* errors can add up!"
      ]
    },
    {
      "cell_type": "markdown",
      "metadata": {
        "id": "uAyV-QWrU5yG"
      },
      "source": [
        "You might be wondering about the little [XX] and [XX] prompts in the code cells above.  What is their purpose?  Guess what the following line will do."
      ]
    },
    {
      "cell_type": "code",
      "metadata": {
        "colab": {
          "base_uri": "https://localhost:8080/"
        },
        "id": "vgnp3B3JU5yG",
        "outputId": "22dc6c56-2071-476b-d237-7d1e8c2709b8"
      },
      "source": [
        "Out[4] + Out[5]"
      ],
      "execution_count": null,
      "outputs": [
        {
          "output_type": "execute_result",
          "data": {
            "text/plain": [
              "-5.545454545454546"
            ]
          },
          "metadata": {
            "tags": []
          },
          "execution_count": 12
        }
      ]
    },
    {
      "cell_type": "markdown",
      "metadata": {
        "id": "GgS8uA14U5yG"
      },
      "source": [
        "Cool, huh?  It's nice to have a record of previous computations, especially if you don't want to type something again.\n",
        "\n",
        "Python allows you to group expressions with parentheses, and follows the order of operations that you learn in school."
      ]
    },
    {
      "cell_type": "code",
      "metadata": {
        "colab": {
          "base_uri": "https://localhost:8080/"
        },
        "id": "kE_p7LcGU5yG",
        "outputId": "f437d974-5985-43ac-b50d-0f9f91621465"
      },
      "source": [
        "(3 + 4) * 5"
      ],
      "execution_count": null,
      "outputs": [
        {
          "output_type": "execute_result",
          "data": {
            "text/plain": [
              "35"
            ]
          },
          "metadata": {
            "tags": []
          },
          "execution_count": 13
        }
      ]
    },
    {
      "cell_type": "code",
      "metadata": {
        "colab": {
          "base_uri": "https://localhost:8080/"
        },
        "id": "n-hUvTxHU5yG",
        "outputId": "1fd44b20-81a6-4801-d250-e2a64818a5ab"
      },
      "source": [
        "3 + (4 * 5)"
      ],
      "execution_count": null,
      "outputs": [
        {
          "output_type": "execute_result",
          "data": {
            "text/plain": [
              "23"
            ]
          },
          "metadata": {
            "tags": []
          },
          "execution_count": 14
        }
      ]
    },
    {
      "cell_type": "code",
      "metadata": {
        "colab": {
          "base_uri": "https://localhost:8080/"
        },
        "id": "3E_z7E81U5yG",
        "outputId": "c19d1fc2-cf24-4386-cc9a-3107190045bb"
      },
      "source": [
        "3 + 4 * 5   #  What do you think will be the result?  Remember PEMDAS?"
      ],
      "execution_count": null,
      "outputs": [
        {
          "output_type": "execute_result",
          "data": {
            "text/plain": [
              "23"
            ]
          },
          "metadata": {
            "tags": []
          },
          "execution_count": 15
        }
      ]
    },
    {
      "cell_type": "markdown",
      "metadata": {
        "id": "lIFwbvWsU5yG"
      },
      "source": [
        "Now is a good time to try a few computations of your own, in the empty cell below.  You can type any Python commands you want in the empty cell.  If you want to insert a new cell into this notebook, just hover your cursor in the space between cells in Colab."
      ]
    },
    {
      "cell_type": "code",
      "metadata": {
        "colab": {
          "base_uri": "https://localhost:8080/"
        },
        "id": "Rc5Lv9wLU5yH",
        "outputId": "e40b8385-66f6-4ac3-cb88-e580f46cc6f9"
      },
      "source": [
        "6.0 / 3\n"
      ],
      "execution_count": null,
      "outputs": [
        {
          "output_type": "execute_result",
          "data": {
            "text/plain": [
              "2.0"
            ]
          },
          "metadata": {
            "tags": []
          },
          "execution_count": 21
        }
      ]
    },
    {
      "cell_type": "markdown",
      "metadata": {
        "id": "OkWlZNSSU5yH"
      },
      "source": [
        "For number theory, *division with remainder* is an operation of central importance.  Integer division provides the quotient, and the operation `%` provides the remainder.  It's a bit strange that the percent symbol is used for the remainder, but this [dates at least to the early 1970s](https://softwareengineering.stackexchange.com/questions/294297/in-what-programming-language-did-the-use-of-the-percent-sign-to-mean-modulo) and has become standard across computer languages."
      ]
    },
    {
      "cell_type": "code",
      "metadata": {
        "colab": {
          "base_uri": "https://localhost:8080/"
        },
        "id": "xTWOi_XxU5yH",
        "outputId": "33108975-65bf-4cd1-ed91-f59b3774324a"
      },
      "source": [
        "23 // 5  # Integer division"
      ],
      "execution_count": null,
      "outputs": [
        {
          "output_type": "execute_result",
          "data": {
            "text/plain": [
              "4"
            ]
          },
          "metadata": {
            "tags": []
          },
          "execution_count": 2
        }
      ]
    },
    {
      "cell_type": "code",
      "metadata": {
        "colab": {
          "base_uri": "https://localhost:8080/"
        },
        "id": "UNjARp_xU5yH",
        "outputId": "8c3ea545-3a23-4444-b3c3-16179de0d8db"
      },
      "source": [
        "23 % 5  # The remainder after division"
      ],
      "execution_count": null,
      "outputs": [
        {
          "output_type": "execute_result",
          "data": {
            "text/plain": [
              "3"
            ]
          },
          "metadata": {
            "tags": []
          },
          "execution_count": 23
        }
      ]
    },
    {
      "cell_type": "markdown",
      "metadata": {
        "id": "WFrRvFgkU5yH"
      },
      "source": [
        "Note in the code above, there are little \"comments\".  To place a short comment on a line of code, just put a hashtag `#` at the end of the line of code, followed by your comment.\n",
        "\n",
        "Python gives a single command for division with remainder.  Its output is a *tuple*."
      ]
    },
    {
      "cell_type": "code",
      "metadata": {
        "colab": {
          "base_uri": "https://localhost:8080/"
        },
        "id": "F2zJS-tRU5yH",
        "outputId": "64772304-b721-42fe-bbbc-572ca0e04988"
      },
      "source": [
        "divmod(23,5)"
      ],
      "execution_count": null,
      "outputs": [
        {
          "output_type": "execute_result",
          "data": {
            "text/plain": [
              "(4, 3)"
            ]
          },
          "metadata": {
            "tags": []
          },
          "execution_count": 24
        }
      ]
    },
    {
      "cell_type": "code",
      "metadata": {
        "colab": {
          "base_uri": "https://localhost:8080/"
        },
        "id": "y3dckm2dU5yH",
        "outputId": "05ca563d-5d91-4d62-986e-d72462b562e0"
      },
      "source": [
        "type(divmod(23,5))"
      ],
      "execution_count": null,
      "outputs": [
        {
          "output_type": "execute_result",
          "data": {
            "text/plain": [
              "tuple"
            ]
          },
          "metadata": {
            "tags": []
          },
          "execution_count": 25
        }
      ]
    },
    {
      "cell_type": "markdown",
      "metadata": {
        "id": "0qVUgNJ2U5yH"
      },
      "source": [
        "All data in Python has a type, but a common complaint about Python is that types are a bit concealed \"under the hood\".  But they are not far under the hood!  Anyone can find out the type of some data with a single command."
      ]
    },
    {
      "cell_type": "code",
      "metadata": {
        "colab": {
          "base_uri": "https://localhost:8080/"
        },
        "id": "TU1Cho4tU5yI",
        "outputId": "188f3124-52cd-438a-c4e0-4f6ca48cbfbf"
      },
      "source": [
        "type(3)"
      ],
      "execution_count": null,
      "outputs": [
        {
          "output_type": "execute_result",
          "data": {
            "text/plain": [
              "int"
            ]
          },
          "metadata": {
            "tags": []
          },
          "execution_count": 26
        }
      ]
    },
    {
      "cell_type": "code",
      "metadata": {
        "colab": {
          "base_uri": "https://localhost:8080/"
        },
        "id": "OYALDWO5U5yI",
        "outputId": "e4e3819d-2757-4a32-ca2f-570718aac00e"
      },
      "source": [
        "type(3.0)"
      ],
      "execution_count": null,
      "outputs": [
        {
          "output_type": "execute_result",
          "data": {
            "text/plain": [
              "float"
            ]
          },
          "metadata": {
            "tags": []
          },
          "execution_count": 27
        }
      ]
    },
    {
      "cell_type": "code",
      "metadata": {
        "colab": {
          "base_uri": "https://localhost:8080/"
        },
        "id": "SHQ-_qcHU5yI",
        "outputId": "1b243529-f5d5-496f-8689-7568ecdff999"
      },
      "source": [
        "type('Hello')"
      ],
      "execution_count": null,
      "outputs": [
        {
          "output_type": "execute_result",
          "data": {
            "text/plain": [
              "str"
            ]
          },
          "metadata": {
            "tags": []
          },
          "execution_count": 28
        }
      ]
    },
    {
      "cell_type": "code",
      "metadata": {
        "colab": {
          "base_uri": "https://localhost:8080/"
        },
        "id": "nhf-YmD3U5yI",
        "outputId": "d63adefd-559f-44d9-b5d6-23ee11292c75"
      },
      "source": [
        "type([1,2,3])"
      ],
      "execution_count": null,
      "outputs": [
        {
          "output_type": "execute_result",
          "data": {
            "text/plain": [
              "list"
            ]
          },
          "metadata": {
            "tags": []
          },
          "execution_count": 29
        }
      ]
    },
    {
      "cell_type": "markdown",
      "metadata": {
        "id": "tYWDszLmU5yI"
      },
      "source": [
        "The key to careful computation in Python is always being *aware of the type* of your data, and *knowing* how Python operates differently on data of different types."
      ]
    },
    {
      "cell_type": "code",
      "metadata": {
        "colab": {
          "base_uri": "https://localhost:8080/"
        },
        "id": "Uc7eYJLWU5yI",
        "outputId": "a19acb2b-05bc-437c-ef6e-cf3bda85cf1c"
      },
      "source": [
        "3 + 3"
      ],
      "execution_count": null,
      "outputs": [
        {
          "output_type": "execute_result",
          "data": {
            "text/plain": [
              "6"
            ]
          },
          "metadata": {
            "tags": []
          },
          "execution_count": 30
        }
      ]
    },
    {
      "cell_type": "code",
      "metadata": {
        "colab": {
          "base_uri": "https://localhost:8080/"
        },
        "id": "jv6N6XLQU5yI",
        "outputId": "e8cf9876-d924-499e-ee15-340d15e82349"
      },
      "source": [
        "3.0 + 3.0"
      ],
      "execution_count": null,
      "outputs": [
        {
          "output_type": "execute_result",
          "data": {
            "text/plain": [
              "6.0"
            ]
          },
          "metadata": {
            "tags": []
          },
          "execution_count": 31
        }
      ]
    },
    {
      "cell_type": "code",
      "metadata": {
        "colab": {
          "base_uri": "https://localhost:8080/",
          "height": 35
        },
        "id": "KKF4Sv-jU5yI",
        "outputId": "05d8f593-db63-4d1a-e01a-d699348689db"
      },
      "source": [
        "'Hello' + 'World!'"
      ],
      "execution_count": null,
      "outputs": [
        {
          "output_type": "execute_result",
          "data": {
            "application/vnd.google.colaboratory.intrinsic+json": {
              "type": "string"
            },
            "text/plain": [
              "'HelloWorld!'"
            ]
          },
          "metadata": {
            "tags": []
          },
          "execution_count": 32
        }
      ]
    },
    {
      "cell_type": "code",
      "metadata": {
        "colab": {
          "base_uri": "https://localhost:8080/"
        },
        "id": "q9H__Z99U5yI",
        "outputId": "475ddf7f-3aa3-4459-dd08-15d889a1a211"
      },
      "source": [
        "[1,2,3] + [4,5,6]"
      ],
      "execution_count": null,
      "outputs": [
        {
          "output_type": "execute_result",
          "data": {
            "text/plain": [
              "[1, 2, 3, 4, 5, 6]"
            ]
          },
          "metadata": {
            "tags": []
          },
          "execution_count": 33
        }
      ]
    },
    {
      "cell_type": "code",
      "metadata": {
        "colab": {
          "base_uri": "https://localhost:8080/"
        },
        "id": "NDDAxeQJU5yJ",
        "outputId": "e71be628-7150-4713-836c-163417bc95db"
      },
      "source": [
        "3 + 3.0"
      ],
      "execution_count": null,
      "outputs": [
        {
          "output_type": "execute_result",
          "data": {
            "text/plain": [
              "6.0"
            ]
          },
          "metadata": {
            "tags": []
          },
          "execution_count": 34
        }
      ]
    },
    {
      "cell_type": "code",
      "metadata": {
        "colab": {
          "base_uri": "https://localhost:8080/",
          "height": 166
        },
        "id": "xuBj_w9_U5yJ",
        "outputId": "596d5106-4c5f-4d1e-a3dc-50d4d4c64d78"
      },
      "source": [
        "3 + 'Hello!'  # Uh oh!"
      ],
      "execution_count": null,
      "outputs": [
        {
          "output_type": "error",
          "ename": "TypeError",
          "evalue": "ignored",
          "traceback": [
            "\u001b[0;31m---------------------------------------------------------------------------\u001b[0m",
            "\u001b[0;31mTypeError\u001b[0m                                 Traceback (most recent call last)",
            "\u001b[0;32m<ipython-input-35-dacf80a979a3>\u001b[0m in \u001b[0;36m<module>\u001b[0;34m()\u001b[0m\n\u001b[0;32m----> 1\u001b[0;31m \u001b[0;36m3\u001b[0m \u001b[0;34m+\u001b[0m \u001b[0;34m'Hello!'\u001b[0m  \u001b[0;31m# Uh oh!\u001b[0m\u001b[0;34m\u001b[0m\u001b[0;34m\u001b[0m\u001b[0m\n\u001b[0m",
            "\u001b[0;31mTypeError\u001b[0m: unsupported operand type(s) for +: 'int' and 'str'"
          ]
        }
      ]
    },
    {
      "cell_type": "code",
      "metadata": {
        "colab": {
          "base_uri": "https://localhost:8080/"
        },
        "id": "9P7roKZgU5yJ",
        "outputId": "958b20ed-9ed0-4197-dc0b-da12448406f9"
      },
      "source": [
        "3 + 3.0 # Which ones work?  How?"
      ],
      "execution_count": null,
      "outputs": [
        {
          "output_type": "execute_result",
          "data": {
            "text/plain": [
              "6.0"
            ]
          },
          "metadata": {
            "tags": []
          },
          "execution_count": 37
        }
      ]
    },
    {
      "cell_type": "markdown",
      "metadata": {
        "id": "1_2D8-NFU5yJ"
      },
      "source": [
        "As you can see, addition (the `+` operator) is interpreted differently in the contexts of numbers, strings, and lists.  The designers of Python allowed us to add *numbers* of different types:  if you try to operate on an *int* and a *float*, the *int* will typically be *coerced* into a float in order to perform the operation.  But the designers of Python did not give meaning to the addition of a number with a string, for example.  That's why you probably received a *TypeError* after trying to add a number to a string.\n",
        "\n",
        "On the other hand, Python does interpret *multiplication* of a natural number with a string or a list."
      ]
    },
    {
      "cell_type": "code",
      "metadata": {
        "colab": {
          "base_uri": "https://localhost:8080/",
          "height": 35
        },
        "id": "MmRfXepMU5yJ",
        "outputId": "2b6c78e3-84d3-4ff7-c6f2-304539394f46"
      },
      "source": [
        "3 * 'Hello!'"
      ],
      "execution_count": null,
      "outputs": [
        {
          "output_type": "execute_result",
          "data": {
            "application/vnd.google.colaboratory.intrinsic+json": {
              "type": "string"
            },
            "text/plain": [
              "'Hello!Hello!Hello!'"
            ]
          },
          "metadata": {
            "tags": []
          },
          "execution_count": 90
        }
      ]
    },
    {
      "cell_type": "code",
      "metadata": {
        "colab": {
          "base_uri": "https://localhost:8080/",
          "height": 35
        },
        "id": "gVo2bjWzU5yJ",
        "outputId": "80ba5807-20ad-461d-d8fa-593e80ef4bfe"
      },
      "source": [
        "0 * 'Hello!'"
      ],
      "execution_count": null,
      "outputs": [
        {
          "output_type": "execute_result",
          "data": {
            "application/vnd.google.colaboratory.intrinsic+json": {
              "type": "string"
            },
            "text/plain": [
              "''"
            ]
          },
          "metadata": {
            "tags": []
          },
          "execution_count": 39
        }
      ]
    },
    {
      "cell_type": "code",
      "metadata": {
        "colab": {
          "base_uri": "https://localhost:8080/"
        },
        "id": "OqWWK6VWU5yJ",
        "outputId": "f4fcf00e-9c33-4df4-c51b-a15433f2a4b6"
      },
      "source": [
        "2 * [1,2,3]"
      ],
      "execution_count": null,
      "outputs": [
        {
          "output_type": "execute_result",
          "data": {
            "text/plain": [
              "[1, 2, 3, 1, 2, 3]"
            ]
          },
          "metadata": {
            "tags": []
          },
          "execution_count": 40
        }
      ]
    },
    {
      "cell_type": "markdown",
      "metadata": {
        "id": "Z28hpoAjU5yJ"
      },
      "source": [
        "Can you create a string with 100 A's (like `AAA...`)?  Use an appropriate operation in the cell below."
      ]
    },
    {
      "cell_type": "code",
      "metadata": {
        "colab": {
          "base_uri": "https://localhost:8080/",
          "height": 35
        },
        "id": "fAxwL5O3U5yJ",
        "outputId": "8d6dc257-e489-4b7d-acd9-584258b9be9a"
      },
      "source": [
        "100 * \"A\"\n"
      ],
      "execution_count": null,
      "outputs": [
        {
          "output_type": "execute_result",
          "data": {
            "application/vnd.google.colaboratory.intrinsic+json": {
              "type": "string"
            },
            "text/plain": [
              "'AAAAAAAAAAAAAAAAAAAAAAAAAAAAAAAAAAAAAAAAAAAAAAAAAAAAAAAAAAAAAAAAAAAAAAAAAAAAAAAAAAAAAAAAAAAAAAAAAAAA'"
            ]
          },
          "metadata": {
            "tags": []
          },
          "execution_count": 42
        }
      ]
    },
    {
      "cell_type": "markdown",
      "metadata": {
        "id": "nHp8b6_8U5yJ"
      },
      "source": [
        "Exponents in Python are given by the `**` operator.  The following lines compute 2 to the 1000th power, in two different ways."
      ]
    },
    {
      "cell_type": "code",
      "metadata": {
        "colab": {
          "base_uri": "https://localhost:8080/"
        },
        "id": "VNDmF-hcU5yK",
        "outputId": "55b9e86f-ebcd-4dcf-936e-57d04ced2b3f"
      },
      "source": [
        "2**1000"
      ],
      "execution_count": null,
      "outputs": [
        {
          "output_type": "execute_result",
          "data": {
            "text/plain": [
              "10715086071862673209484250490600018105614048117055336074437503883703510511249361224931983788156958581275946729175531468251871452856923140435984577574698574803934567774824230985421074605062371141877954182153046474983581941267398767559165543946077062914571196477686542167660429831652624386837205668069376"
            ]
          },
          "metadata": {
            "tags": []
          },
          "execution_count": 43
        }
      ]
    },
    {
      "cell_type": "code",
      "metadata": {
        "colab": {
          "base_uri": "https://localhost:8080/"
        },
        "id": "DEHGNQ3RU5yK",
        "outputId": "46c96461-d4c7-476e-c85d-be27ba8f13e5"
      },
      "source": [
        "2.0**1000"
      ],
      "execution_count": null,
      "outputs": [
        {
          "output_type": "execute_result",
          "data": {
            "text/plain": [
              "1.0715086071862673e+301"
            ]
          },
          "metadata": {
            "tags": []
          },
          "execution_count": 44
        }
      ]
    },
    {
      "cell_type": "markdown",
      "metadata": {
        "id": "O1bSyFFJU5yK"
      },
      "source": [
        "As before, Python interprets an operation (`**`) differently in different contexts.  When given integer input, Python evaluates `2**1000` **exactly**.  The result is a large integer.  A nice fact about Python, for mathematicians, is that it handles exact integers of arbitrary length!  Many other programming languages (like C++) will give an error message if integers get too large in the midst of a computation.  \n",
        "\n",
        "New in version 3.x, Python implements long integers without giving signals to the programmer or changing types.  In Python 2.x, there were two types: *int* for somewhat small integers (e.g., up to $2^{31}$) and *long* type for all larger integers.  Python 2.x would signal which type of integer was being used, by placing the letter \"L\" at the end of a long integer.  Now, in Python 3.x, the programmer doesn't really see the difference.  There is only the *int* type.  But Python still optimizes computations, using hardware functionality for arithmetic of small integers and custom routines for large integers.  The programmer doesn't have to worry about it most of the time.\n",
        "\n",
        "For scientific applications, one often wants to keep track of only a certain number of significant digits (sig figs).  If one computes the floating point exponent `2.0**1000`, the result is a decimal approximation.  It is still a float.  The expression \"e+301\" stands for \"multiplied by 10 to the 301st power\", i.e., Python uses *scientific notation* for large floats."
      ]
    },
    {
      "cell_type": "code",
      "metadata": {
        "colab": {
          "base_uri": "https://localhost:8080/"
        },
        "id": "gbiP5lpxU5yK",
        "outputId": "e8b4be0a-7a93-4d8e-96fe-9ffaae9d4246"
      },
      "source": [
        "type(2**1000)"
      ],
      "execution_count": null,
      "outputs": [
        {
          "output_type": "execute_result",
          "data": {
            "text/plain": [
              "int"
            ]
          },
          "metadata": {
            "tags": []
          },
          "execution_count": 45
        }
      ]
    },
    {
      "cell_type": "code",
      "metadata": {
        "colab": {
          "base_uri": "https://localhost:8080/"
        },
        "id": "oYFQ7ZxFU5yL",
        "outputId": "e8e38e8d-a7a5-4f23-a446-9ee481a2790b"
      },
      "source": [
        "type(2.0**1000)"
      ],
      "execution_count": null,
      "outputs": [
        {
          "output_type": "execute_result",
          "data": {
            "text/plain": [
              "float"
            ]
          },
          "metadata": {
            "tags": []
          },
          "execution_count": 46
        }
      ]
    },
    {
      "cell_type": "code",
      "metadata": {
        "colab": {
          "base_uri": "https://localhost:8080/"
        },
        "id": "MtmwQzLgU5yL",
        "outputId": "1ff762bc-04f5-4578-d10c-12f60a6e04e3"
      },
      "source": [
        "type(1.5**1000)\n"
      ],
      "execution_count": null,
      "outputs": [
        {
          "output_type": "execute_result",
          "data": {
            "text/plain": [
              "float"
            ]
          },
          "metadata": {
            "tags": []
          },
          "execution_count": 93
        }
      ]
    },
    {
      "cell_type": "markdown",
      "metadata": {
        "id": "hu0LPXNLU5yL"
      },
      "source": [
        "Now is a good time for reflection.  Double-click in the cell below to answer the given questions.  Cells like this one are used for text rather than Python code.  Text is entered using *markdown*, but you can typically just enter text as you would in any text editor without problems.  Press *shift-Enter* after editing a text cell to complete the editing process.  "
      ]
    },
    {
      "cell_type": "markdown",
      "metadata": {
        "id": "QLyCVcXoU5yL"
      },
      "source": [
        "### Exercises\n",
        "\n",
        "1.  What data types have you seen, and what kinds of data are they used for?  Can you remember them without looking back?\n",
        "\n",
        "2.  How is division `/` interpreted differently for different types of data?\n",
        "\n",
        "3.  How is multiplication `*` interpreted differently for different types of data?\n",
        "\n",
        "4.  What is the difference between 100 and 100.0, for Python?"
      ]
    },
    {
      "cell_type": "markdown",
      "metadata": {
        "id": "KDzM72ZXU5yL"
      },
      "source": [
        "Double-click this text cell to edit it, and answer the exercises.  This may be graded, so please complete all questions!  Write in clear, complete, and concise sentences.\n",
        "\n",
        "1. The different data types that we have seen include numberic types such as integers and floats, text type, such as strings, and list types, such as strings or tuples.\n",
        "\n",
        "2. In python, there are two types of division, which are float division (/) and integer division (//). The single-slash division gives a floating point approximation of the quotient. On the other hand, the double-slash division yields integer outputs, which are rounded down.\n",
        "\n",
        "3. Mutiplying a natural number with another natural number yields a natural number. Mutiplying a natural number with a string. yields a longer string with that number of iterations of the original string. Similarly, mutiplying a natural number with a list yields one longer list with that number of iterations of the original list.\n",
        "\n",
        "4. 100 is an integer, while 100.0 is a float."
      ]
    },
    {
      "cell_type": "markdown",
      "metadata": {
        "id": "0jhkZ5zhU5yL"
      },
      "source": [
        "# Calculating with booleans"
      ]
    },
    {
      "cell_type": "markdown",
      "metadata": {
        "id": "IAb0HST5U5yM"
      },
      "source": [
        "A *boolean* (type *bool*) is the smallest possible piece of data.  While an *int* can be any integer, positive or negative, a *boolean* can only be one of two things:  *True* or *False*.  In this way, booleans are useful for storing the answers to yes/no questions.  \n",
        "\n",
        "Questions about (in)equality of numbers are answered in Python by *operations* with numerical input and boolean output.  Here are some examples.  A more complete reference is [in the official Python documentation](https://docs.python.org/3/library/stdtypes.html#boolean-operations-and-or-not)."
      ]
    },
    {
      "cell_type": "code",
      "metadata": {
        "colab": {
          "base_uri": "https://localhost:8080/"
        },
        "id": "AqNG6PZBU5yM",
        "outputId": "7c729b06-0d85-47fe-e6de-d2e9e8783f67"
      },
      "source": [
        "3 > 2"
      ],
      "execution_count": null,
      "outputs": [
        {
          "output_type": "execute_result",
          "data": {
            "text/plain": [
              "True"
            ]
          },
          "metadata": {
            "tags": []
          },
          "execution_count": 51
        }
      ]
    },
    {
      "cell_type": "code",
      "metadata": {
        "colab": {
          "base_uri": "https://localhost:8080/"
        },
        "id": "nOgi4gqUU5yM",
        "outputId": "8a5a23ea-b40b-4347-9450-d86cbd89a633"
      },
      "source": [
        "type(3 > 2)"
      ],
      "execution_count": null,
      "outputs": [
        {
          "output_type": "execute_result",
          "data": {
            "text/plain": [
              "bool"
            ]
          },
          "metadata": {
            "tags": []
          },
          "execution_count": 52
        }
      ]
    },
    {
      "cell_type": "code",
      "metadata": {
        "colab": {
          "base_uri": "https://localhost:8080/"
        },
        "id": "WabkpXPbU5yM",
        "outputId": "74be2dd3-85e7-4eab-8985-6aebb5119de9"
      },
      "source": [
        "10 < 3"
      ],
      "execution_count": null,
      "outputs": [
        {
          "output_type": "execute_result",
          "data": {
            "text/plain": [
              "False"
            ]
          },
          "metadata": {
            "tags": []
          },
          "execution_count": 53
        }
      ]
    },
    {
      "cell_type": "code",
      "metadata": {
        "colab": {
          "base_uri": "https://localhost:8080/"
        },
        "id": "Mohc3o5oU5yM",
        "outputId": "17673b05-2afa-478f-b4f2-5bca797277ae"
      },
      "source": [
        "2.4 < 2.4000001"
      ],
      "execution_count": null,
      "outputs": [
        {
          "output_type": "execute_result",
          "data": {
            "text/plain": [
              "True"
            ]
          },
          "metadata": {
            "tags": []
          },
          "execution_count": 54
        }
      ]
    },
    {
      "cell_type": "code",
      "metadata": {
        "colab": {
          "base_uri": "https://localhost:8080/"
        },
        "id": "jnrzq17fU5yM",
        "outputId": "ccb29cba-8ba9-4dcd-a921-54ee1fc7d493"
      },
      "source": [
        "32 >= 32"
      ],
      "execution_count": null,
      "outputs": [
        {
          "output_type": "execute_result",
          "data": {
            "text/plain": [
              "True"
            ]
          },
          "metadata": {
            "tags": []
          },
          "execution_count": 55
        }
      ]
    },
    {
      "cell_type": "code",
      "metadata": {
        "colab": {
          "base_uri": "https://localhost:8080/"
        },
        "id": "D55td8J7U5yM",
        "outputId": "49cb52cc-bccb-4d26-9acd-553cc8777a8d"
      },
      "source": [
        "32 >= 31"
      ],
      "execution_count": null,
      "outputs": [
        {
          "output_type": "execute_result",
          "data": {
            "text/plain": [
              "True"
            ]
          },
          "metadata": {
            "tags": []
          },
          "execution_count": 56
        }
      ]
    },
    {
      "cell_type": "code",
      "metadata": {
        "colab": {
          "base_uri": "https://localhost:8080/"
        },
        "id": "L0RlreGLU5yM",
        "outputId": "c6140f78-c7bf-4d3f-cae2-a85bfde36e55"
      },
      "source": [
        "2 + 2 == 4"
      ],
      "execution_count": null,
      "outputs": [
        {
          "output_type": "execute_result",
          "data": {
            "text/plain": [
              "True"
            ]
          },
          "metadata": {
            "tags": []
          },
          "execution_count": 57
        }
      ]
    },
    {
      "cell_type": "markdown",
      "metadata": {
        "id": "_f2QoYJ-U5yM"
      },
      "source": [
        "Which number is bigger:  $23^{32}$ or $32^{23}$?  Use the cell below to answer the question!"
      ]
    },
    {
      "cell_type": "code",
      "metadata": {
        "colab": {
          "base_uri": "https://localhost:8080/"
        },
        "id": "PGlksxncU5yN",
        "outputId": "50c08196-2b52-4458-80b1-c65085614ca5"
      },
      "source": [
        "23**32 > 32^23"
      ],
      "execution_count": null,
      "outputs": [
        {
          "output_type": "execute_result",
          "data": {
            "text/plain": [
              "True"
            ]
          },
          "metadata": {
            "tags": []
          },
          "execution_count": 99
        }
      ]
    },
    {
      "cell_type": "markdown",
      "metadata": {
        "id": "5gPTGa6abqAC"
      },
      "source": [
        "$23^{32}$ is greater than $32^{23}$."
      ]
    },
    {
      "cell_type": "markdown",
      "metadata": {
        "id": "KTiAVQ0qU5yN"
      },
      "source": [
        "The expressions `<`, `>`, `<=`, `>=` are interpreted here as **operations** with numerical input and boolean output.  The symbol `==` (two equal symbols!) gives a True result if the numbers are equal, and False if the numbers are not equal.  An extremely common typo is to confuse `=` with `==`.  But the single equality symbol `=` has an entirely different meaning, as we shall see."
      ]
    },
    {
      "cell_type": "markdown",
      "metadata": {
        "id": "3atYTyAnU5yN"
      },
      "source": [
        "Using the remainder operator `%` and equality, we obtain a divisibility test."
      ]
    },
    {
      "cell_type": "code",
      "metadata": {
        "colab": {
          "base_uri": "https://localhost:8080/"
        },
        "id": "t1BCq6GFU5yN",
        "outputId": "dfa699a8-418b-47dd-f551-a6809efdedb5"
      },
      "source": [
        "63 % 7 == 0  # Is 63 divisible by 7?"
      ],
      "execution_count": null,
      "outputs": [
        {
          "output_type": "execute_result",
          "data": {
            "text/plain": [
              "True"
            ]
          },
          "metadata": {
            "tags": []
          },
          "execution_count": 67
        }
      ]
    },
    {
      "cell_type": "code",
      "metadata": {
        "colab": {
          "base_uri": "https://localhost:8080/"
        },
        "id": "kYz8XfraU5yN",
        "outputId": "d83b4fbf-bccb-4e15-ce03-1dc0fafcef99"
      },
      "source": [
        "101 % 2 == 0  # Is 101 even?"
      ],
      "execution_count": null,
      "outputs": [
        {
          "output_type": "execute_result",
          "data": {
            "text/plain": [
              "False"
            ]
          },
          "metadata": {
            "tags": []
          },
          "execution_count": 68
        }
      ]
    },
    {
      "cell_type": "markdown",
      "metadata": {
        "id": "0Iikx3JZU5yN"
      },
      "source": [
        "Use the cell below to determine whether 1234567890 is divisible by 3."
      ]
    },
    {
      "cell_type": "code",
      "metadata": {
        "colab": {
          "base_uri": "https://localhost:8080/"
        },
        "id": "LPqBN_VlU5yN",
        "outputId": "2a05ff3f-0461-4c49-e2fe-e23ccaed3510"
      },
      "source": [
        "1234567890 % 3 == 0\n"
      ],
      "execution_count": null,
      "outputs": [
        {
          "output_type": "execute_result",
          "data": {
            "text/plain": [
              "True"
            ]
          },
          "metadata": {
            "tags": []
          },
          "execution_count": 69
        }
      ]
    },
    {
      "cell_type": "markdown",
      "metadata": {
        "id": "Tvle2bwdU5yN"
      },
      "source": [
        "Booleans can be operated on by the standard logical operations: and, or, not.  In ordinary English usage, \"and\" and \"or\" are conjunctions, while here in *Boolean algebra*, \"and\" and \"or\" are operations with Boolean inputs and Boolean output.  The precise meanings of \"and\" and \"or\" are given by the following **truth tables**.\n",
        "\n",
        "    \n",
        "| and | True | False |\n",
        "|-----|------|-------|\n",
        "| **True** | True | False |\n",
        "| **False** | False | False|\n",
        "\n",
        "<br>\n",
        "  \n",
        "| or | True | False |\n",
        "|-----|------|-------|\n",
        "| **True** | True | True |\n",
        "| **False** | True | False|"
      ]
    },
    {
      "cell_type": "code",
      "metadata": {
        "colab": {
          "base_uri": "https://localhost:8080/"
        },
        "id": "eRo1A6IzU5yN",
        "outputId": "b3fe4a62-af2c-4ff7-8411-98585788a99f"
      },
      "source": [
        "True and False"
      ],
      "execution_count": null,
      "outputs": [
        {
          "output_type": "execute_result",
          "data": {
            "text/plain": [
              "False"
            ]
          },
          "metadata": {
            "tags": []
          },
          "execution_count": 71
        }
      ]
    },
    {
      "cell_type": "code",
      "metadata": {
        "colab": {
          "base_uri": "https://localhost:8080/"
        },
        "id": "sFMWK-0HU5yN",
        "outputId": "f6f563cc-4cf2-47ec-edaf-a4de250fc77a"
      },
      "source": [
        "True or False"
      ],
      "execution_count": null,
      "outputs": [
        {
          "output_type": "execute_result",
          "data": {
            "text/plain": [
              "True"
            ]
          },
          "metadata": {
            "tags": []
          },
          "execution_count": 72
        }
      ]
    },
    {
      "cell_type": "code",
      "metadata": {
        "colab": {
          "base_uri": "https://localhost:8080/"
        },
        "id": "5bREtxzOU5yN",
        "outputId": "cb27935e-89a7-419e-bee3-2e24c102d92a"
      },
      "source": [
        "True or True"
      ],
      "execution_count": null,
      "outputs": [
        {
          "output_type": "execute_result",
          "data": {
            "text/plain": [
              "True"
            ]
          },
          "metadata": {
            "tags": []
          },
          "execution_count": 73
        }
      ]
    },
    {
      "cell_type": "code",
      "metadata": {
        "colab": {
          "base_uri": "https://localhost:8080/"
        },
        "id": "DP0Rw6jDU5yO",
        "outputId": "18158d44-5bfc-4d96-ea5b-f2c99c5d59de"
      },
      "source": [
        "not True"
      ],
      "execution_count": null,
      "outputs": [
        {
          "output_type": "execute_result",
          "data": {
            "text/plain": [
              "False"
            ]
          },
          "metadata": {
            "tags": []
          },
          "execution_count": 74
        }
      ]
    },
    {
      "cell_type": "markdown",
      "metadata": {
        "id": "DRKe3Jv8U5yO"
      },
      "source": [
        "Use the truth tables to predict the result (True or False) of each of the following, before evaluating the code."
      ]
    },
    {
      "cell_type": "code",
      "metadata": {
        "colab": {
          "base_uri": "https://localhost:8080/"
        },
        "id": "NVKb_6njU5yO",
        "outputId": "e3eeec92-2179-4c56-f718-2d271024caac"
      },
      "source": [
        "(2 > 3) and (3 > 2)"
      ],
      "execution_count": null,
      "outputs": [
        {
          "output_type": "execute_result",
          "data": {
            "text/plain": [
              "False"
            ]
          },
          "metadata": {
            "tags": []
          },
          "execution_count": 75
        }
      ]
    },
    {
      "cell_type": "code",
      "metadata": {
        "colab": {
          "base_uri": "https://localhost:8080/"
        },
        "id": "JrprEal6U5yO",
        "outputId": "b0c543b4-8514-4a1a-8454-0c5eaaad414f"
      },
      "source": [
        "(1 + 1 == 2) or (1 + 1 == 3)"
      ],
      "execution_count": null,
      "outputs": [
        {
          "output_type": "execute_result",
          "data": {
            "text/plain": [
              "True"
            ]
          },
          "metadata": {
            "tags": []
          },
          "execution_count": 78
        }
      ]
    },
    {
      "cell_type": "code",
      "metadata": {
        "colab": {
          "base_uri": "https://localhost:8080/"
        },
        "id": "Ef-ryEGjU5yO",
        "scrolled": true,
        "outputId": "9bd42766-f32a-40ab-8d26-702666173ab1"
      },
      "source": [
        "not (-1 + 1 >= 0)"
      ],
      "execution_count": null,
      "outputs": [
        {
          "output_type": "execute_result",
          "data": {
            "text/plain": [
              "False"
            ]
          },
          "metadata": {
            "tags": []
          },
          "execution_count": 76
        }
      ]
    },
    {
      "cell_type": "code",
      "metadata": {
        "colab": {
          "base_uri": "https://localhost:8080/"
        },
        "id": "FUSY_QuLU5yO",
        "outputId": "daf00d93-3e41-45b3-8575-dbc55b019ab4"
      },
      "source": [
        "2 + 2 == 4"
      ],
      "execution_count": null,
      "outputs": [
        {
          "output_type": "execute_result",
          "data": {
            "text/plain": [
              "True"
            ]
          },
          "metadata": {
            "tags": []
          },
          "execution_count": 77
        }
      ]
    },
    {
      "cell_type": "code",
      "metadata": {
        "colab": {
          "base_uri": "https://localhost:8080/"
        },
        "id": "hKTk4LjaU5yO",
        "outputId": "498894cd-1b76-41a5-84a4-75c05bc1abd4"
      },
      "source": [
        "2 + 2 != 4  # For \"not equal\", Python uses the operation `!=`."
      ],
      "execution_count": null,
      "outputs": [
        {
          "output_type": "execute_result",
          "data": {
            "text/plain": [
              "False"
            ]
          },
          "metadata": {
            "tags": []
          },
          "execution_count": 79
        }
      ]
    },
    {
      "cell_type": "code",
      "metadata": {
        "colab": {
          "base_uri": "https://localhost:8080/"
        },
        "id": "UsJtoToLU5yO",
        "outputId": "f39066c8-068c-4024-baea-8b56c48df994"
      },
      "source": [
        "2 + 2 != 5  # Is 2+2 *not* equal to 5?"
      ],
      "execution_count": null,
      "outputs": [
        {
          "output_type": "execute_result",
          "data": {
            "text/plain": [
              "True"
            ]
          },
          "metadata": {
            "tags": []
          },
          "execution_count": 80
        }
      ]
    },
    {
      "cell_type": "code",
      "metadata": {
        "colab": {
          "base_uri": "https://localhost:8080/"
        },
        "id": "tVfKlWT_U5yO",
        "outputId": "54c7cc4b-0d08-43b8-88fd-fc61175890d7"
      },
      "source": [
        "not (2 + 2 == 5)  # The same as above, but a bit longer to write."
      ],
      "execution_count": null,
      "outputs": [
        {
          "output_type": "execute_result",
          "data": {
            "text/plain": [
              "True"
            ]
          },
          "metadata": {
            "tags": []
          },
          "execution_count": 81
        }
      ]
    },
    {
      "cell_type": "markdown",
      "metadata": {
        "id": "uwxFqT9uU5yO"
      },
      "source": [
        "Experiment below to see how Python handles a double or triple negative, i.e., something with a `not` `not`."
      ]
    },
    {
      "cell_type": "code",
      "metadata": {
        "colab": {
          "base_uri": "https://localhost:8080/"
        },
        "id": "nD-RgY0CU5yP",
        "outputId": "d260b2d9-31c7-49ce-fb74-5a14d29d0f55"
      },
      "source": [
        "not (2 + 2 != 4)"
      ],
      "execution_count": null,
      "outputs": [
        {
          "output_type": "execute_result",
          "data": {
            "text/plain": [
              "True"
            ]
          },
          "metadata": {
            "tags": []
          },
          "execution_count": 86
        }
      ]
    },
    {
      "cell_type": "markdown",
      "metadata": {
        "id": "5xxO21m1U5yP"
      },
      "source": [
        "Python does give an interpretation to arithmetic operations with booleans and numbers.  Try to guess this interpretation with the following examples.  Change the examples to experiment!"
      ]
    },
    {
      "cell_type": "code",
      "metadata": {
        "colab": {
          "base_uri": "https://localhost:8080/"
        },
        "id": "Y2lLPpdWU5yP",
        "outputId": "a5ddef14-314a-414f-8ff9-adb8fb81d357"
      },
      "source": [
        "False * 100"
      ],
      "execution_count": null,
      "outputs": [
        {
          "output_type": "execute_result",
          "data": {
            "text/plain": [
              "0"
            ]
          },
          "metadata": {
            "tags": []
          },
          "execution_count": 88
        }
      ]
    },
    {
      "cell_type": "code",
      "metadata": {
        "colab": {
          "base_uri": "https://localhost:8080/"
        },
        "id": "5y3rtwrdU5yP",
        "outputId": "ad95d2c2-ffa6-49f4-b7fc-0264c5bccff4"
      },
      "source": [
        "True + 13"
      ],
      "execution_count": null,
      "outputs": [
        {
          "output_type": "execute_result",
          "data": {
            "text/plain": [
              "14"
            ]
          },
          "metadata": {
            "tags": []
          },
          "execution_count": 87
        }
      ]
    },
    {
      "cell_type": "markdown",
      "metadata": {
        "id": "QOkU3A_fU5yP"
      },
      "source": [
        "This ability of Python to interpret operations based on context is a mixed blessing.  On one hand, it leads to handy shortcuts -- quick ways of writing complicated programs.  On the other hand, it can lead to code that is harder to read, especially for a Python novice.  Good programmers aim for code that is easy to read, not just short!\n",
        "\n",
        "The [Zen of Python](https://www.python.org/dev/peps/pep-0020/) is a series of 20 aphorisms for Python programmers.  The first seven are below.\n",
        "\n",
        "> Beautiful is better than ugly.\n",
        "\n",
        "> Explicit is better than implicit.\n",
        "\n",
        "> Simple is better than complex.\n",
        "\n",
        "> Complex is better than complicated.\n",
        "\n",
        "> Flat is better than nested.\n",
        "\n",
        "> Sparse is better than dense.\n",
        "\n",
        "> Readability counts."
      ]
    },
    {
      "cell_type": "markdown",
      "metadata": {
        "id": "_5mUQ1tCU5yP"
      },
      "source": [
        "### Exercises\n",
        "\n",
        "1.  Did you look at the truth tables closely?  Can you remember, from memory, what `True or False` equals, or what `True and False` equals?  \n",
        "\n",
        "2.  How might you easily remember the truth tables?  How do they resemble the standard English usage of the words \"and\" and \"or\"?\n",
        "\n",
        "3.  If you wanted to know whether a number, like 2349872348723, is a multiple of 7 but **not** a multiple of 11, how might you write this in one line of Python code?\n",
        "\n",
        "4.  You can chain together `and` commands, e.g., with an expression like `True and True and True` (which would evaluate to `True`).  You can also group booleans, e.g., with `True and (True or False)`.  Experiment to figure out the order of operations (`and`, `or`, `not`) for booleans.\n",
        "\n",
        "6.  The operation `xor` means \"exclusive or\".  Its truth table is: `True xor True = False` and `False xor False = False` and `True xor False = True` and `False xor True = True`.  How might you implement `xor` in terms of the usual `and`, `or`, and `not`?\n",
        "\n"
      ]
    },
    {
      "cell_type": "code",
      "metadata": {
        "colab": {
          "base_uri": "https://localhost:8080/"
        },
        "id": "XbE4TN_WMibu",
        "outputId": "1ea425dc-a493-45a8-a36b-d672cf18fc33"
      },
      "source": [
        "True or True and False"
      ],
      "execution_count": null,
      "outputs": [
        {
          "output_type": "execute_result",
          "data": {
            "text/plain": [
              "True"
            ]
          },
          "metadata": {
            "tags": []
          },
          "execution_count": 21
        }
      ]
    },
    {
      "cell_type": "markdown",
      "metadata": {
        "id": "WRS9UYULN8Jd"
      },
      "source": [
        "This means that \"and\" comes before \"or\"."
      ]
    },
    {
      "cell_type": "code",
      "metadata": {
        "colab": {
          "base_uri": "https://localhost:8080/"
        },
        "id": "1ozeW8KqN4fM",
        "outputId": "1d1b20bb-3570-4e58-c015-8bed67bf3118"
      },
      "source": [
        "not True or True and not False"
      ],
      "execution_count": null,
      "outputs": [
        {
          "output_type": "execute_result",
          "data": {
            "text/plain": [
              "True"
            ]
          },
          "metadata": {
            "tags": []
          },
          "execution_count": 26
        }
      ]
    },
    {
      "cell_type": "markdown",
      "metadata": {
        "id": "Bkl3HhRQO1ad"
      },
      "source": [
        "In order to find the truth value of \"true and not false\", one must first find the value of \"not false\". Thus, \"not\" comes before \"or\"."
      ]
    },
    {
      "cell_type": "markdown",
      "metadata": {
        "id": "owWkn3ieU5yP"
      },
      "source": [
        "###  Solutions\n",
        "\n",
        "(Edit here to give solutions to the exercises)\n",
        "\n",
        "1. Yes; True or False is true. True and False is false.\n",
        "\n",
        "2. One can easily remember the truth tables by thinking of the English usage of \"and\" and \"or\". When both of the truth values of the statement are true (true and true), the statement is true. When neither of the truth values of the statement are true (false or false), the statement can never be true, which means it has to be false. Therefore, for the \"and\" table, the statement is ony true for \"true and true\". Also, for the \"or\" table, the statement is ony false for \"false or false\".   \n",
        "\n",
        "3. To know whether a number, like 2349872348723, is a multiple of 7 but not a multiple of 11 using one line of code, I would write \"(2349872348723 % 7 == 0) and (not (2349872348723 % 11 == 0))\".\n",
        "\n",
        "4. The order of operations from highest to lowest is Not, And, Or.\n",
        "\n",
        "5. In terms of \"and\", \"or\", and \"not\", \"xor\" is \"(A nand B) and (A or B)\"."
      ]
    },
    {
      "cell_type": "markdown",
      "metadata": {
        "id": "k69tL17JU5yP"
      },
      "source": [
        "# Declaring variables"
      ]
    },
    {
      "cell_type": "markdown",
      "metadata": {
        "id": "UjI-5d00U5yP"
      },
      "source": [
        "A central feature of programming is the declaration of variables.  When you declare a variable, you are *storing* data in the computer's *memory* and you are assigning a *name* to that data.  Both storage and name-assignment are carried out with the *single* equality symbol =."
      ]
    },
    {
      "cell_type": "code",
      "metadata": {
        "id": "hkwJHNVpU5yQ"
      },
      "source": [
        "e = 2.71828"
      ],
      "execution_count": null,
      "outputs": []
    },
    {
      "cell_type": "markdown",
      "metadata": {
        "id": "gY-LejB4U5yQ"
      },
      "source": [
        "With this command, the float 2.71828 is stored somewhere inside your computer, and Python can access this stored number by the name \"e\" thereafter.  So if you want to compute \"e squared\", a single command will do."
      ]
    },
    {
      "cell_type": "code",
      "metadata": {
        "colab": {
          "base_uri": "https://localhost:8080/"
        },
        "id": "2ZJ7VtIwU5yQ",
        "outputId": "599e01bc-b806-4071-d61b-561af58f93c1"
      },
      "source": [
        "e * e"
      ],
      "execution_count": null,
      "outputs": [
        {
          "output_type": "execute_result",
          "data": {
            "text/plain": [
              "7.3890461584"
            ]
          },
          "metadata": {
            "tags": []
          },
          "execution_count": 9
        }
      ]
    },
    {
      "cell_type": "code",
      "metadata": {
        "colab": {
          "base_uri": "https://localhost:8080/"
        },
        "id": "G46Ma5fCU5yQ",
        "outputId": "0cfe6858-4efd-40e1-cbf3-62e47c362797"
      },
      "source": [
        "type(e)"
      ],
      "execution_count": null,
      "outputs": [
        {
          "output_type": "execute_result",
          "data": {
            "text/plain": [
              "float"
            ]
          },
          "metadata": {
            "tags": []
          },
          "execution_count": 10
        }
      ]
    },
    {
      "cell_type": "markdown",
      "metadata": {
        "id": "cWVyUzZxU5yQ"
      },
      "source": [
        "You can use just about any name you want for a variable, but your name *must* start with a letter, *must* not contain spaces, and your name *must* not be an existing Python word.  Characters in a variable name can include letters (uppercase and lowercase) and numbers and underscores `_`.  \n",
        "\n",
        "So `e` is a valid name for a variable, but `type` is a bad name.  It is very tempting for beginners to use very short abbreviation-style names for variables (like `dx` or `vbn`).  But resist that temptation and use more descriptive names for variables, like `difference_x` or `very_big_number`.  This will make your code readable by you and others!\n",
        "\n",
        "There are different style conventions for variable names.  We use lowercase names, with underscores separating words,  roughly following [Google's style conventions](https://google.github.io/styleguide/pyguide.html#Python_Style_Rules) for Python code."
      ]
    },
    {
      "cell_type": "code",
      "metadata": {
        "id": "yQN7N7ZPU5yQ"
      },
      "source": [
        "my_number = 17"
      ],
      "execution_count": null,
      "outputs": []
    },
    {
      "cell_type": "code",
      "metadata": {
        "colab": {
          "base_uri": "https://localhost:8080/"
        },
        "id": "FitPq8UNU5yQ",
        "outputId": "80c638cf-d7a2-4d09-c3da-acea1fb861dd"
      },
      "source": [
        "my_number < 23"
      ],
      "execution_count": null,
      "outputs": [
        {
          "output_type": "execute_result",
          "data": {
            "text/plain": [
              "True"
            ]
          },
          "metadata": {
            "tags": []
          },
          "execution_count": 12
        }
      ]
    },
    {
      "cell_type": "markdown",
      "metadata": {
        "id": "ne_mUsdnU5yQ"
      },
      "source": [
        "After you declare a variable, its value remains the same until it is changed.  You can change the value of a variable with a simple assignment.  After the above lines, the value of my_number is 17."
      ]
    },
    {
      "cell_type": "code",
      "metadata": {
        "id": "Eu-rHwt0U5yQ"
      },
      "source": [
        "my_number = 3.14"
      ],
      "execution_count": null,
      "outputs": []
    },
    {
      "cell_type": "markdown",
      "metadata": {
        "id": "cqgxOyyEU5yQ"
      },
      "source": [
        "This command reassigns the value of my_number to 3.14.  Note that it changes the type too!  It effectively overrides the previous value and replaces it with the new value.\n",
        "\n",
        "Often it is useful to change the value of a variable *incrementally* or *recursively*.  Python, like many programming languages, allows one to assign variables in a self-referential way.  What do you think the value of S will be after the following four lines?"
      ]
    },
    {
      "cell_type": "code",
      "metadata": {
        "colab": {
          "base_uri": "https://localhost:8080/"
        },
        "id": "zW6_fRoxU5yR",
        "outputId": "34efe524-3afd-4887-f594-d8a5af5a8c95"
      },
      "source": [
        "S = 0\n",
        "S = S + 1\n",
        "S = S + 2\n",
        "S = S + 3\n",
        "print(S)"
      ],
      "execution_count": null,
      "outputs": [
        {
          "output_type": "stream",
          "text": [
            "6\n"
          ],
          "name": "stdout"
        }
      ]
    },
    {
      "cell_type": "markdown",
      "metadata": {
        "id": "cX1eo3jZU5yR"
      },
      "source": [
        "The first line `S = 0` is the initial declaration:  the value 0 is stored in memory, and the name S is assigned to this value.\n",
        "\n",
        "The next line `S = S + 1` looks like nonsense, as an algebraic sentence.  But reading = as **assignment** rather than **equality**, you should read the line `S = S + 1` as assigning the *value* `S + 1` to the *name* `S`.  When Python interprets `S = S + 1`, it carries out the following steps.\n",
        "\n",
        "1.  Compute the value of the right side, `S+1`.  (The value is 1, since `S` was assigned the value 0 in the previous line.)\n",
        "2.  Assign this value to the left side, `S`.  (Now `S` has the value 1.)\n",
        "\n",
        "Well, this is a slight lie.  Python probably does something more efficient, when given the command `S = S + 1`, since such operations are hard-wired in the computer and the Python interpreter is smart enough to take the most efficient route.  But at this level, it is most useful to think of a self-referential assignment of the form `X = expression(X)` as a two step process as above.\n",
        "\n",
        "1.  Compute the value of `expression(X)`.\n",
        "2.  Assign this value to `X`."
      ]
    },
    {
      "cell_type": "markdown",
      "metadata": {
        "id": "82NT9vo2U5yR"
      },
      "source": [
        "Now consider the following three commands."
      ]
    },
    {
      "cell_type": "code",
      "metadata": {
        "id": "CbT40NiuU5yR"
      },
      "source": [
        "my_number = 17\n",
        "new_number = my_number + 1\n",
        "my_number = 3.14"
      ],
      "execution_count": null,
      "outputs": []
    },
    {
      "cell_type": "markdown",
      "metadata": {
        "id": "yQz42J2dU5yR"
      },
      "source": [
        "What are the values of the variables my_number and new_number, after the execution of these three lines?\n",
        "\n",
        "To access these values, you can use the *print* function."
      ]
    },
    {
      "cell_type": "code",
      "metadata": {
        "colab": {
          "base_uri": "https://localhost:8080/"
        },
        "id": "5J4rfa08U5yR",
        "outputId": "e4205e91-2cc8-4222-f4e8-618466427701"
      },
      "source": [
        "print(my_number)\n",
        "print(new_number)"
      ],
      "execution_count": null,
      "outputs": [
        {
          "output_type": "stream",
          "text": [
            "3.14\n",
            "18\n"
          ],
          "name": "stdout"
        }
      ]
    },
    {
      "cell_type": "markdown",
      "metadata": {
        "id": "DbEoFnjnU5yR"
      },
      "source": [
        "Python is an *interpreted* language, which carries out commands line-by-line from top to bottom.  So consider the three lines\n",
        "\n",
        "``` python\n",
        "my_number = 17\n",
        "new_number = my_number + 1\n",
        "my_number = 3.14\n",
        "```\n",
        "\n",
        "Line 1 sets the value of my_number to 17.  Line 2 sets the value of new_number to 18.  Line 3 sets the value of my_number to 3.14.  But Line 3 does *not* change the value of new_number at all.\n",
        "\n",
        "(This will become confusing and complicated later, as we study mutable and immutable types.)"
      ]
    },
    {
      "cell_type": "markdown",
      "metadata": {
        "id": "PFA4Q7SiU5yR"
      },
      "source": [
        "### Exercises\n",
        "\n",
        "1.  What is the difference between `=` and `==` in the Python language?\n",
        "\n",
        "2.  If the variable `x` has value `3`, and you then evaluate the Python command `x = x * x`, what will be the value of `x` after evaluation?\n",
        "\n",
        "3.  Imagine you have two variables `a` and `b`, and you want to switch their values.  How could you do this in Python?\n",
        "\n",
        "4.  Kepler's third law states that for a planet in circular orbit around an object of mass $M$, one has $4 \\pi^2 r^3 = G M t^2$.  We can use this to estimate the mass of the sun, from other astronomically observable quantities.  Look up $G$ (the gravitational constant, estimated by experiment on Earth) and $r$ (the distance from the Earth to the sun, in meters).  Compute $t$, the number of seconds it takes for the Earth to go around the sun (365.25 days).  Finally use all of this to estimate $M$, the mass of the sun.  Your solution should use 5-10 lines of Python code."
      ]
    },
    {
      "cell_type": "markdown",
      "metadata": {
        "id": "sIeJz7hUU5yR"
      },
      "source": [
        "### Solutions\n",
        "\n",
        "(Use this space to work on the exercises.  Place more code and text cells above as needed.)\n",
        "\n",
        "1. The single equality symbol is used for storage and name-assignment. The double equality symbol is used for checking whether two expressions yield the same value.\n",
        "\n",
        "2. If the variable x has value 3, and you then evaluate the Python command x = x * x, the value of x will be 3 times 3 which is 9.\n",
        "\n",
        "3. First define variables x and y (ex. x=1, y=2). let a=x. Then, on the next line, let x=y. Finally, on the last line, let y=a. This will yield x=2, y=1, which switches the x and y variables.\n",
        "\n",
        "4. The mass of the sun is $3.770600523947666 \\times 10^{30}$ kilograms."
      ]
    },
    {
      "cell_type": "code",
      "metadata": {
        "colab": {
          "base_uri": "https://localhost:8080/"
        },
        "id": "Aeuv5fcn4KkF",
        "outputId": "fa3d5ca2-87d1-4b91-995e-de953747d652"
      },
      "source": [
        "x=1\n",
        "y=2\n",
        "\n",
        "a=x\n",
        "x=y\n",
        "y=a\n",
        "\n",
        "print(\"The new value of x is\", x)\n",
        "print(\"The new value of y is\", y)"
      ],
      "execution_count": null,
      "outputs": [
        {
          "output_type": "stream",
          "text": [
            "The new value of x is 2\n",
            "The new value of y is 1\n"
          ],
          "name": "stdout"
        }
      ]
    },
    {
      "cell_type": "code",
      "metadata": {
        "colab": {
          "base_uri": "https://localhost:8080/"
        },
        "id": "pQZz7Bt46kEI",
        "outputId": "5be91216-55d4-4f9d-bf96-06fd88f197b7"
      },
      "source": [
        "import math\n",
        "G = 6.67430 * 10 ** -11\n",
        "r = 149.6 * 10 ** 9\n",
        "t = 265.25*24*60*60\n",
        "M = (4 * math.pi ** 2 * r**3)/(G*t**2)\n",
        "print (\"The mass of the sun is\", M, \"kilograms.\")"
      ],
      "execution_count": null,
      "outputs": [
        {
          "output_type": "stream",
          "text": [
            "The mass of the sun is 3.770600523947666e+30 kilograms.\n"
          ],
          "name": "stdout"
        }
      ]
    },
    {
      "cell_type": "markdown",
      "metadata": {
        "id": "b81C2aIPU5yS"
      },
      "source": [
        "# Lists and ranges"
      ]
    },
    {
      "cell_type": "markdown",
      "metadata": {
        "id": "iZoKvbn0U5yS"
      },
      "source": [
        "Python stands out for the central role played by *lists*.  A *list* is what it sounds like -- a list of data.  Data within a list can be of any type.  Multiple types are possible within the same list!  The basic syntax for a list is to use brackets to enclose the list items and commas to separate the list items."
      ]
    },
    {
      "cell_type": "code",
      "metadata": {
        "colab": {
          "base_uri": "https://localhost:8080/"
        },
        "id": "MQRMJWrgU5yS",
        "outputId": "d83a24a9-28cc-4e56-9116-e9aec298c73c"
      },
      "source": [
        "type([1,2,3])"
      ],
      "execution_count": null,
      "outputs": [
        {
          "output_type": "execute_result",
          "data": {
            "text/plain": [
              "list"
            ]
          },
          "metadata": {
            "tags": []
          },
          "execution_count": 1
        }
      ]
    },
    {
      "cell_type": "code",
      "metadata": {
        "colab": {
          "base_uri": "https://localhost:8080/"
        },
        "id": "BkTCBWhsU5yS",
        "outputId": "4b390373-3880-4dbc-dab8-37329ff521af"
      },
      "source": [
        "type(['Hello',17])"
      ],
      "execution_count": null,
      "outputs": [
        {
          "output_type": "execute_result",
          "data": {
            "text/plain": [
              "list"
            ]
          },
          "metadata": {
            "tags": []
          },
          "execution_count": 2
        }
      ]
    },
    {
      "cell_type": "markdown",
      "metadata": {
        "id": "DH51tlMvU5yS"
      },
      "source": [
        "There is another type called a *tuple* that we will use less often.  Tuples use parentheses for enclosure instead of brackets."
      ]
    },
    {
      "cell_type": "code",
      "metadata": {
        "colab": {
          "base_uri": "https://localhost:8080/"
        },
        "id": "8m1KBuRNU5yS",
        "outputId": "e3a2671b-57af-493a-f0df-cc4dc19d17cd"
      },
      "source": [
        "type((1,2,3))"
      ],
      "execution_count": null,
      "outputs": [
        {
          "output_type": "execute_result",
          "data": {
            "text/plain": [
              "tuple"
            ]
          },
          "metadata": {
            "tags": []
          },
          "execution_count": 3
        }
      ]
    },
    {
      "cell_type": "markdown",
      "metadata": {
        "id": "sFZr5TtpU5yS"
      },
      "source": [
        "There's another list-like type in Python 3, called the `range` type.  Ranges are kind of like lists, but instead of plunking every item into a slot of memory, ranges just have to remember three integers:  their *start*, their *stop*, and their *step*.    \n",
        "\n",
        "The `range` command creates a range with a given start, stop, and step.  If you only input one number, the range will ***start at zero*** and use ***steps of one*** and will stop ***just before*** the given stop-number.\n",
        "\n",
        "One can create a list from a range (plunking every term in the range into a slot of memory), by using the `list` command.  Here are a few examples."
      ]
    },
    {
      "cell_type": "code",
      "metadata": {
        "colab": {
          "base_uri": "https://localhost:8080/"
        },
        "id": "0N_HejMiU5yS",
        "outputId": "55027d5a-1c73-408f-9fc1-80e8892b5109"
      },
      "source": [
        "type(range(10)) # Ranges are their own type, in Python 3.x.  Not in Python 2.x!"
      ],
      "execution_count": null,
      "outputs": [
        {
          "output_type": "execute_result",
          "data": {
            "text/plain": [
              "range"
            ]
          },
          "metadata": {
            "tags": []
          },
          "execution_count": 4
        }
      ]
    },
    {
      "cell_type": "code",
      "metadata": {
        "colab": {
          "base_uri": "https://localhost:8080/"
        },
        "id": "XzlQhL4eU5yS",
        "outputId": "c088190a-0414-45c5-dfb0-ddc7b29fb6bd"
      },
      "source": [
        "list(range(10)) # Let's see what's in the range.  Note it starts at zero!  Where does it stop?"
      ],
      "execution_count": null,
      "outputs": [
        {
          "output_type": "execute_result",
          "data": {
            "text/plain": [
              "[0, 1, 2, 3, 4, 5, 6, 7, 8, 9]"
            ]
          },
          "metadata": {
            "tags": []
          },
          "execution_count": 5
        }
      ]
    },
    {
      "cell_type": "markdown",
      "metadata": {
        "id": "7-TeavRKU5yS"
      },
      "source": [
        "A more complicated two-input form of the range command produces a range of integers **starting at** a given number, and **terminating before** another given number."
      ]
    },
    {
      "cell_type": "code",
      "metadata": {
        "colab": {
          "base_uri": "https://localhost:8080/"
        },
        "id": "fpHHkb82U5yT",
        "outputId": "c6d7c056-05fa-4857-d7f5-836ea19d5f1f"
      },
      "source": [
        "list(range(3,10))"
      ],
      "execution_count": null,
      "outputs": [
        {
          "output_type": "execute_result",
          "data": {
            "text/plain": [
              "[3, 4, 5, 6, 7, 8, 9]"
            ]
          },
          "metadata": {
            "tags": []
          },
          "execution_count": 6
        }
      ]
    },
    {
      "cell_type": "code",
      "metadata": {
        "colab": {
          "base_uri": "https://localhost:8080/"
        },
        "id": "O5A8XZFxU5yT",
        "outputId": "d6f5a04a-b0d9-4b26-b9b8-9cbc27fd697e"
      },
      "source": [
        "list(range(-4,5))"
      ],
      "execution_count": null,
      "outputs": [
        {
          "output_type": "execute_result",
          "data": {
            "text/plain": [
              "[-4, -3, -2, -1, 0, 1, 2, 3, 4]"
            ]
          },
          "metadata": {
            "tags": []
          },
          "execution_count": 7
        }
      ]
    },
    {
      "cell_type": "markdown",
      "metadata": {
        "id": "dRzyphm5U5yT"
      },
      "source": [
        "This is a common source of difficulty for Python beginners.  While the first parameter (-4) is the starting point of the list, the list ends just before the second parameter (5).  This takes some getting used to, but experienced Python programmers grow to like this convention."
      ]
    },
    {
      "cell_type": "markdown",
      "metadata": {
        "id": "XderpNFAU5yT"
      },
      "source": [
        "The *length* of a list can be accessed by the len command."
      ]
    },
    {
      "cell_type": "code",
      "metadata": {
        "colab": {
          "base_uri": "https://localhost:8080/"
        },
        "id": "-xjzFOxWU5yT",
        "outputId": "c3c88cd5-d07f-450d-a1e8-583c20b74476"
      },
      "source": [
        "len([2,4,6])"
      ],
      "execution_count": null,
      "outputs": [
        {
          "output_type": "execute_result",
          "data": {
            "text/plain": [
              "3"
            ]
          },
          "metadata": {
            "tags": []
          },
          "execution_count": 8
        }
      ]
    },
    {
      "cell_type": "code",
      "metadata": {
        "colab": {
          "base_uri": "https://localhost:8080/"
        },
        "id": "1IG2dOJeU5yT",
        "outputId": "28f8b8e7-0664-40a1-93a3-e952c7d91f7d"
      },
      "source": [
        "len(range(10))  # The len command can deal with lists and ranges.  No need to convert."
      ],
      "execution_count": null,
      "outputs": [
        {
          "output_type": "execute_result",
          "data": {
            "text/plain": [
              "10"
            ]
          },
          "metadata": {
            "tags": []
          },
          "execution_count": 9
        }
      ]
    },
    {
      "cell_type": "code",
      "metadata": {
        "colab": {
          "base_uri": "https://localhost:8080/"
        },
        "id": "N9lCN8-bU5yT",
        "outputId": "6a684c1a-8dbd-4e21-a64e-b0337fc932a4"
      },
      "source": [
        "len(range(10,100)) # Can you figure out the length, before evaluating?"
      ],
      "execution_count": null,
      "outputs": [
        {
          "output_type": "execute_result",
          "data": {
            "text/plain": [
              "90"
            ]
          },
          "metadata": {
            "tags": []
          },
          "execution_count": 10
        }
      ]
    },
    {
      "cell_type": "markdown",
      "metadata": {
        "id": "zW4aiYaAU5yT"
      },
      "source": [
        "The final variant of the range command (for now) is the *three-parameter* command of the form `range(a,b,s)`.  This produces a list like `range(a,b)`, but with a \"step size\" of `s`.  In other words, it produces a list of integers, beginning at `a`, increasing by `s` from one entry to the next, and going up to (but not including) `b`.  It is best to experiment a bit to get the feel for it!"
      ]
    },
    {
      "cell_type": "code",
      "metadata": {
        "colab": {
          "base_uri": "https://localhost:8080/"
        },
        "id": "RjmZQRmtU5yT",
        "outputId": "05f5b8f1-127a-455e-e6b2-e3d32a1961e2"
      },
      "source": [
        "list(range(1,10,2))"
      ],
      "execution_count": null,
      "outputs": [
        {
          "output_type": "execute_result",
          "data": {
            "text/plain": [
              "[1, 3, 5, 7, 9]"
            ]
          },
          "metadata": {
            "tags": []
          },
          "execution_count": 11
        }
      ]
    },
    {
      "cell_type": "code",
      "metadata": {
        "colab": {
          "base_uri": "https://localhost:8080/"
        },
        "id": "UX91kNpoU5yT",
        "outputId": "181caa38-6878-4849-fe0e-1828fafc3f08"
      },
      "source": [
        "list(range(11,30,2))"
      ],
      "execution_count": null,
      "outputs": [
        {
          "output_type": "execute_result",
          "data": {
            "text/plain": [
              "[11, 13, 15, 17, 19, 21, 23, 25, 27, 29]"
            ]
          },
          "metadata": {
            "tags": []
          },
          "execution_count": 12
        }
      ]
    },
    {
      "cell_type": "code",
      "metadata": {
        "colab": {
          "base_uri": "https://localhost:8080/"
        },
        "id": "cU6TYerPU5yU",
        "outputId": "bcd9bba6-37d4-456d-b4c3-ec4498434760"
      },
      "source": [
        "list(range(-4,5,3))"
      ],
      "execution_count": null,
      "outputs": [
        {
          "output_type": "execute_result",
          "data": {
            "text/plain": [
              "[-4, -1, 2]"
            ]
          },
          "metadata": {
            "tags": []
          },
          "execution_count": 13
        }
      ]
    },
    {
      "cell_type": "code",
      "metadata": {
        "colab": {
          "base_uri": "https://localhost:8080/"
        },
        "id": "_RueWhdHU5yU",
        "outputId": "adfe0d82-ad71-43e3-d2ca-ca9f41a4c507"
      },
      "source": [
        "list(range(10,100,17))"
      ],
      "execution_count": null,
      "outputs": [
        {
          "output_type": "execute_result",
          "data": {
            "text/plain": [
              "[10, 27, 44, 61, 78, 95]"
            ]
          },
          "metadata": {
            "tags": []
          },
          "execution_count": 14
        }
      ]
    },
    {
      "cell_type": "markdown",
      "metadata": {
        "id": "I3otAH2AU5yU"
      },
      "source": [
        "This can be used for descending ranges too, and observe that the final number b in range(a,b,s) is not included."
      ]
    },
    {
      "cell_type": "code",
      "metadata": {
        "colab": {
          "base_uri": "https://localhost:8080/"
        },
        "id": "LVm1djsTU5yU",
        "outputId": "1e5a9542-835b-4683-d5fe-0470310c6a7b"
      },
      "source": [
        "list(range(10,0,-1))"
      ],
      "execution_count": null,
      "outputs": [
        {
          "output_type": "execute_result",
          "data": {
            "text/plain": [
              "[10, 9, 8, 7, 6, 5, 4, 3, 2, 1]"
            ]
          },
          "metadata": {
            "tags": []
          },
          "execution_count": 15
        }
      ]
    },
    {
      "cell_type": "markdown",
      "metadata": {
        "id": "Jp1V-X59U5yU"
      },
      "source": [
        "How many multiples of 7 are between 10 and 100?  We can find out pretty quickly with the range command and the len command (to count)."
      ]
    },
    {
      "cell_type": "code",
      "metadata": {
        "colab": {
          "base_uri": "https://localhost:8080/"
        },
        "id": "roA4gLoXU5yU",
        "outputId": "64344e32-0aa3-4ab3-964b-38d18bee38cc"
      },
      "source": [
        "list(range(10,100,7))  # What list will this create?  It won't answer the question..."
      ],
      "execution_count": null,
      "outputs": [
        {
          "output_type": "execute_result",
          "data": {
            "text/plain": [
              "[10, 17, 24, 31, 38, 45, 52, 59, 66, 73, 80, 87, 94]"
            ]
          },
          "metadata": {
            "tags": []
          },
          "execution_count": 16
        }
      ]
    },
    {
      "cell_type": "code",
      "metadata": {
        "colab": {
          "base_uri": "https://localhost:8080/"
        },
        "id": "jybN-evPU5yU",
        "outputId": "bd07c643-6e52-4dd2-fc1c-0ba0f3af356d"
      },
      "source": [
        "list(range(14,100,7))  # Starting at 14 gives the multiples of 7."
      ],
      "execution_count": null,
      "outputs": [
        {
          "output_type": "execute_result",
          "data": {
            "text/plain": [
              "[14, 21, 28, 35, 42, 49, 56, 63, 70, 77, 84, 91, 98]"
            ]
          },
          "metadata": {
            "tags": []
          },
          "execution_count": 17
        }
      ]
    },
    {
      "cell_type": "code",
      "metadata": {
        "colab": {
          "base_uri": "https://localhost:8080/"
        },
        "id": "BdvLmGljU5yU",
        "outputId": "dc85b6c0-c217-4f0b-be8c-14eae369f5eb"
      },
      "source": [
        "len(range(14,100,7))  # Gives the length of the list, and answers the question!"
      ],
      "execution_count": null,
      "outputs": [
        {
          "output_type": "execute_result",
          "data": {
            "text/plain": [
              "13"
            ]
          },
          "metadata": {
            "tags": []
          },
          "execution_count": 52
        }
      ]
    },
    {
      "cell_type": "markdown",
      "metadata": {
        "id": "dMbcJV5UU5yU"
      },
      "source": [
        "### Exercises\n",
        "\n",
        "1.  If `a` and `b` are integers, what is the length of `range(a,b)`?  Express your answer as a formula involving `a` and `b`.\n",
        "\n",
        "2.  Use a list and range command to produce the list `[1,2,3,4,5,6,7,8,9,10]`.\n",
        "\n",
        "3.  Create the list `[1,2,3,4,5,1,2,3,4,5,1,2,3,4,5,1,2,3,4,5,1,2,3,4,5]` with a single list and range command and another operation.\n",
        "\n",
        "4.  How many multiples of 3 are there between 300 and 3000 (including 300 and 3000)?"
      ]
    },
    {
      "cell_type": "code",
      "metadata": {
        "colab": {
          "base_uri": "https://localhost:8080/"
        },
        "id": "SidJhKXM-HWR",
        "outputId": "f5876f6a-7549-4028-eed8-01db89462360"
      },
      "source": [
        "list(range(1,11))"
      ],
      "execution_count": null,
      "outputs": [
        {
          "output_type": "execute_result",
          "data": {
            "text/plain": [
              "[1, 2, 3, 4, 5, 6, 7, 8, 9, 10]"
            ]
          },
          "metadata": {
            "tags": []
          },
          "execution_count": 40
        }
      ]
    },
    {
      "cell_type": "code",
      "metadata": {
        "colab": {
          "base_uri": "https://localhost:8080/"
        },
        "id": "unyhVTKg9jke",
        "outputId": "bef02036-2c60-4f49-f5a7-6f9d2095892b"
      },
      "source": [
        "5*(list(range(1,6)))"
      ],
      "execution_count": null,
      "outputs": [
        {
          "output_type": "execute_result",
          "data": {
            "text/plain": [
              "[1, 2, 3, 4, 5, 1, 2, 3, 4, 5, 1, 2, 3, 4, 5, 1, 2, 3, 4, 5, 1, 2, 3, 4, 5]"
            ]
          },
          "metadata": {
            "tags": []
          },
          "execution_count": 38
        }
      ]
    },
    {
      "cell_type": "code",
      "metadata": {
        "colab": {
          "base_uri": "https://localhost:8080/"
        },
        "id": "rfI1U6D26UCY",
        "outputId": "c7403539-1d4e-494f-d62b-c0080211e98e"
      },
      "source": [
        "len(range(300,3001,3))"
      ],
      "execution_count": null,
      "outputs": [
        {
          "output_type": "execute_result",
          "data": {
            "text/plain": [
              "901"
            ]
          },
          "metadata": {
            "tags": []
          },
          "execution_count": 22
        }
      ]
    },
    {
      "cell_type": "code",
      "metadata": {
        "colab": {
          "base_uri": "https://localhost:8080/",
          "height": 131
        },
        "id": "4HKDVcFVU5yU",
        "outputId": "a93a0f33-00eb-49c5-effb-144e33ff6299"
      },
      "source": [
        "#  Use this space to work on the exercises.\n",
        "1. If a and b are integers, then len(range(a,b))=b-a.\n",
        "2. list(range(1,11)) produces the list `[1,2,3,4,5,6,7,8,9,10]`.\n",
        "3. 5*(list(range(1,6))) creates the list `[1,2,3,4,5,1,2,3,4,5,1,2,3,4,5,1,2,3,4,5,1,2,3,4,5]`.\n",
        "4. len(range(300,3001,3))=901, so there are 901 multiples of 3 between 300 and 3000 (including 300 and 3000).\n"
      ],
      "execution_count": null,
      "outputs": [
        {
          "output_type": "error",
          "ename": "SyntaxError",
          "evalue": "ignored",
          "traceback": [
            "\u001b[0;36m  File \u001b[0;32m\"<ipython-input-39-d035efeec2b4>\"\u001b[0;36m, line \u001b[0;32m2\u001b[0m\n\u001b[0;31m    1. If a and b are integers, the len(range(a,b))=b-a.\u001b[0m\n\u001b[0m        ^\u001b[0m\n\u001b[0;31mSyntaxError\u001b[0m\u001b[0;31m:\u001b[0m invalid syntax\n"
          ]
        }
      ]
    },
    {
      "cell_type": "markdown",
      "metadata": {
        "id": "ccSW2BGyU5yV"
      },
      "source": [
        "# Iterating over a range"
      ]
    },
    {
      "cell_type": "markdown",
      "metadata": {
        "id": "qoOhvB1rU5yV"
      },
      "source": [
        "Computers are excellent at repetitive reliable tasks.  If we wish to perform a similar computation, many times over, a computer a great tool.  Here we look at a common and simple way to carry out a repetetive computation:  the \"for loop\".  The \"for loop\" *iterates* through items in a list or range, carrying out some action for each item.  Two examples will illustrate."
      ]
    },
    {
      "cell_type": "code",
      "metadata": {
        "colab": {
          "base_uri": "https://localhost:8080/"
        },
        "id": "mwdKBi3kU5yV",
        "outputId": "0c94d719-fe28-49fc-8905-d6935c908de7"
      },
      "source": [
        "for n in [1,2,3,4,5]:\n",
        "    print(n*n)"
      ],
      "execution_count": null,
      "outputs": [
        {
          "output_type": "stream",
          "text": [
            "1\n",
            "4\n",
            "9\n",
            "16\n",
            "25\n"
          ],
          "name": "stdout"
        }
      ]
    },
    {
      "cell_type": "code",
      "metadata": {
        "colab": {
          "base_uri": "https://localhost:8080/"
        },
        "id": "HC031A4LU5yV",
        "outputId": "bdec8d30-e326-4945-9c9a-54f227f0779e"
      },
      "source": [
        "for s in ['I','Am','Python']:\n",
        "    print(s + \"!\")"
      ],
      "execution_count": null,
      "outputs": [
        {
          "output_type": "stream",
          "text": [
            "I!\n",
            "Am!\n",
            "Python!\n"
          ],
          "name": "stdout"
        }
      ]
    },
    {
      "cell_type": "markdown",
      "metadata": {
        "id": "yuctH9OZU5yV"
      },
      "source": [
        "The first loop, **unraveled**, carries out the following sequence of commands."
      ]
    },
    {
      "cell_type": "code",
      "metadata": {
        "colab": {
          "base_uri": "https://localhost:8080/"
        },
        "id": "UY4izCfvU5yV",
        "outputId": "f852d420-7faa-4452-a56e-bb6421f70b3e"
      },
      "source": [
        "n = 1\n",
        "print(n*n)\n",
        "n = 2\n",
        "print(n*n)\n",
        "n = 3\n",
        "print(n*n)\n",
        "n = 4\n",
        "print(n*n)\n",
        "n = 5\n",
        "print(n*n)"
      ],
      "execution_count": null,
      "outputs": [
        {
          "output_type": "stream",
          "text": [
            "1\n",
            "4\n",
            "9\n",
            "16\n",
            "25\n"
          ],
          "name": "stdout"
        }
      ]
    },
    {
      "cell_type": "markdown",
      "metadata": {
        "id": "IgnUBVI0U5yV"
      },
      "source": [
        "But the \"for loop\" is more efficient *and* more readable to programmers.  Indeed, it saves the repetition of writing the same command `print(n*n)` over and over again.  It also makes transparent, from the beginning, the range of values that `n` is assigned to.  \n",
        "\n",
        "When you read and write \"for loops\", you should consider how they look unravelled -- that is how Python will carry out the loop.  And when you find yourself faced with a repetetive task, you might consider whether it may be wrapped up in a for loop.  Most of the time, you should try to write code that *never repeats* the same task.  If there is repetition, wrap it in a loop."
      ]
    },
    {
      "cell_type": "markdown",
      "metadata": {
        "id": "M16fubaDU5yV"
      },
      "source": [
        "Try to unravel the loop below, and predict the result, before evaluating the code."
      ]
    },
    {
      "cell_type": "code",
      "metadata": {
        "colab": {
          "base_uri": "https://localhost:8080/"
        },
        "id": "vOyvFfJcU5yW",
        "outputId": "5478d165-cd78-4968-82f9-b5ddd7dc2493"
      },
      "source": [
        "P = 1\n",
        "for n in range(1,6):\n",
        "    P = P * n\n",
        "print(P)"
      ],
      "execution_count": null,
      "outputs": [
        {
          "output_type": "stream",
          "text": [
            "120\n"
          ],
          "name": "stdout"
        }
      ]
    },
    {
      "cell_type": "markdown",
      "metadata": {
        "id": "I79mIz44U5yW"
      },
      "source": [
        "This might have been difficult!  So what if you want to trace through the loop, as it goes?  Sometimes, especially when debugging, it's useful to inspect every step of the loop to see what Python is doing.  We can inspect the loop above, by inserting a print command within the *scope* of the loop."
      ]
    },
    {
      "cell_type": "code",
      "metadata": {
        "colab": {
          "base_uri": "https://localhost:8080/"
        },
        "id": "C6bVCkZdU5yW",
        "outputId": "ba19c820-98bd-4baf-898e-b659937859af"
      },
      "source": [
        "P = 1\n",
        "for n in range(1,6):\n",
        "    P = P * n\n",
        "    print(\"n is\",n,\"and P is\",P)\n",
        "print(P)"
      ],
      "execution_count": null,
      "outputs": [
        {
          "output_type": "stream",
          "text": [
            "n is 1 and P is 1\n",
            "n is 2 and P is 2\n",
            "n is 3 and P is 6\n",
            "n is 4 and P is 24\n",
            "n is 5 and P is 120\n",
            "120\n"
          ],
          "name": "stdout"
        }
      ]
    },
    {
      "cell_type": "markdown",
      "metadata": {
        "id": "y8kjJUJAU5yW"
      },
      "source": [
        "Here we have used the *print* command with strings and numbers together.  In Python 3.x, you can print multiple things on the same line by separating them by commas.  The \"things\" can be strings (enclosed by single or double-quotes) and numbers (int, float, etc.)."
      ]
    },
    {
      "cell_type": "code",
      "metadata": {
        "colab": {
          "base_uri": "https://localhost:8080/"
        },
        "id": "wUu0BH2lU5yW",
        "outputId": "7ce86c32-e8d7-4ee6-fa07-47d889eb6f5c"
      },
      "source": [
        "print(\"My favorite number is\",17)"
      ],
      "execution_count": null,
      "outputs": [
        {
          "output_type": "stream",
          "text": [
            "My favorite number is 17\n"
          ],
          "name": "stdout"
        }
      ]
    },
    {
      "cell_type": "markdown",
      "metadata": {
        "id": "TPCXSm1LU5yW"
      },
      "source": [
        "If we unravel the loop above, the linear sequence of commands interpreted by Python is the following."
      ]
    },
    {
      "cell_type": "code",
      "metadata": {
        "colab": {
          "base_uri": "https://localhost:8080/"
        },
        "id": "KzUl3ac7U5yW",
        "outputId": "3f51896c-b34c-4f63-c337-fcbfbeef2e69"
      },
      "source": [
        "P = 1\n",
        "n = 1\n",
        "P = P * n\n",
        "print(\"n is\",n,\"and P is\",P)\n",
        "n = 2\n",
        "P = P * n\n",
        "print(\"n is\",n,\"and P is\",P)\n",
        "n = 3\n",
        "P = P * n\n",
        "print(\"n is\",n,\"and P is\",P)\n",
        "n = 4\n",
        "P = P * n\n",
        "print(\"n is\",n,\"and P is\",P)\n",
        "n = 5\n",
        "P = P * n\n",
        "print(\"n is\",n,\"and P is\",P)\n",
        "print (P)"
      ],
      "execution_count": null,
      "outputs": [
        {
          "output_type": "stream",
          "text": [
            "n is 1 and P is 1\n",
            "n is 2 and P is 2\n",
            "n is 3 and P is 6\n",
            "n is 4 and P is 24\n",
            "n is 5 and P is 120\n",
            "120\n"
          ],
          "name": "stdout"
        }
      ]
    },
    {
      "cell_type": "markdown",
      "metadata": {
        "id": "44_u1MSrU5yW"
      },
      "source": [
        "Let's analyze the loop syntax in more detail.  \n",
        "```python\n",
        "P = 1\n",
        "for n in range(1,6):\n",
        "    P = P * n  # this command is in the scope of the loop.\n",
        "    print(\"n is\",n,\"and P is\",P)  # this command is in the scope of the loop too!\n",
        "print(P)\n",
        "```\n",
        "The \"for\" command ends with a colon `:`, and the **next two** lines are indented.  The colon and indentation are indicators of **scope**.  The *scope* of the for loop begins after the colon, and includes all indented lines.  The *scope* of the for loop is what is repeated in every step of the loop (in addition to the reassignment of `n`).  "
      ]
    },
    {
      "cell_type": "code",
      "metadata": {
        "colab": {
          "base_uri": "https://localhost:8080/"
        },
        "id": "jE003_YTU5yW",
        "outputId": "91ba8d9b-2e0a-4a57-d4a2-05acf38d40be"
      },
      "source": [
        "P = 1\n",
        "for n in range(1,6):\n",
        "    P = P * n  # this command is in the scope of the loop.\n",
        "    print(\"n is\",n,\"and P is\",P)  # this command is in the scope of the loop too!\n",
        "print(P)"
      ],
      "execution_count": null,
      "outputs": [
        {
          "output_type": "stream",
          "text": [
            "n is 1 and P is 1\n",
            "n is 2 and P is 2\n",
            "n is 3 and P is 6\n",
            "n is 4 and P is 24\n",
            "n is 5 and P is 120\n",
            "120\n"
          ],
          "name": "stdout"
        }
      ]
    },
    {
      "cell_type": "markdown",
      "metadata": {
        "id": "8wXaf4hxU5yW"
      },
      "source": [
        "If we change the indentation, it changes the scope of the for loop.  Predict what the following loop will do, by unraveling, before evaluating it."
      ]
    },
    {
      "cell_type": "code",
      "metadata": {
        "colab": {
          "base_uri": "https://localhost:8080/"
        },
        "id": "F_FcpC5QU5yX",
        "outputId": "ce033be1-3580-4241-8954-46d62220086d"
      },
      "source": [
        "P = 1\n",
        "for n in range(1,6):\n",
        "    P = P * n\n",
        "print(\"n is\",n,\"and P is\",P)\n",
        "print(P)"
      ],
      "execution_count": null,
      "outputs": [
        {
          "output_type": "stream",
          "text": [
            "n is 5 and P is 120\n",
            "120\n"
          ],
          "name": "stdout"
        }
      ]
    },
    {
      "cell_type": "markdown",
      "metadata": {
        "id": "__tEmpKPU5yX"
      },
      "source": [
        "Scopes can be nested by nesting indentation.  What do you think the following loop will do?  Can you unravel it?"
      ]
    },
    {
      "cell_type": "code",
      "metadata": {
        "colab": {
          "base_uri": "https://localhost:8080/"
        },
        "id": "9fboPJdAU5yX",
        "outputId": "92c5ca1e-f6d2-44bc-f9c6-c02c1d9aa6f8"
      },
      "source": [
        "for x in [1,2,3]:\n",
        "    for y in ['a', 'b']:\n",
        "        print(x,y)"
      ],
      "execution_count": null,
      "outputs": [
        {
          "output_type": "stream",
          "text": [
            "1 a\n",
            "1 b\n",
            "2 a\n",
            "2 b\n",
            "3 a\n",
            "3 b\n"
          ],
          "name": "stdout"
        }
      ]
    },
    {
      "cell_type": "markdown",
      "metadata": {
        "id": "HmXwPykdU5yX"
      },
      "source": [
        "How might you create a nested loop which prints `1 a` then `2 a` then `3 a` then `1 b` then `2 b` then `3 b`?  Try it below."
      ]
    },
    {
      "cell_type": "code",
      "metadata": {
        "colab": {
          "base_uri": "https://localhost:8080/"
        },
        "id": "b97leVdkU5yX",
        "outputId": "4a533c1f-0012-4fe3-a111-0515dc9fea06"
      },
      "source": [
        "for s in [\"a\",\"b\"]:\n",
        "  for x in [1,2,3]:\n",
        "    print(x,s)\n"
      ],
      "execution_count": null,
      "outputs": [
        {
          "output_type": "stream",
          "text": [
            "1 a\n",
            "2 a\n",
            "3 a\n",
            "1 b\n",
            "2 b\n",
            "3 b\n"
          ],
          "name": "stdout"
        }
      ]
    },
    {
      "cell_type": "markdown",
      "metadata": {
        "id": "ofCBY24EU5yX"
      },
      "source": [
        "Among popular programming languages, Python is particular about indentation.  Other languages indicate scope with open/close braces, for example, and indentation is just a matter of style.  By requiring indentation to indicate scope, Python effectively removes the need for open/close braces, and enforces a readable style.\n",
        "\n",
        "We have now encountered data types, operations, variables, and loops.  Taken together, these are powerful tools for computation!  Now complete the following exercises for more practice."
      ]
    },
    {
      "cell_type": "markdown",
      "metadata": {
        "id": "JBr_HgrSU5yX"
      },
      "source": [
        "## Exercises"
      ]
    },
    {
      "cell_type": "markdown",
      "metadata": {
        "id": "FEQTm_WZU5yX"
      },
      "source": [
        "1.  Describe how Python interprets division with remainder when the divisor and/or dividend is negative.\n",
        "2.  What is the remainder when $2^{90}$ is divided by $91$?\n",
        "3.  How many multiples of 13 are there between 1 and 1000?\n",
        "4.  How many *odd* multiples of 13 are there between 1 and 1000?\n",
        "5.  What is the sum of the numbers from 1 to 1000?\n",
        "6.  What is the sum of the squares, from $1 \\cdot 1$ to $1000 \\cdot 1000$?\n",
        "7.  Euler proved that\n",
        "$$\\frac{1}{1^4} + \\frac{1}{2^4} + \\frac{1}{3^4} + \\cdots = \\frac{\\pi^4}{C},$$\n",
        "for some positive integer $C$.  Use Python to guess what $C$ is."
      ]
    },
    {
      "cell_type": "code",
      "metadata": {
        "colab": {
          "base_uri": "https://localhost:8080/"
        },
        "id": "__7JoulELjdl",
        "outputId": "669636de-95a6-45e2-b808-3d25d0d5fc13"
      },
      "source": [
        "15 % -4"
      ],
      "execution_count": null,
      "outputs": [
        {
          "output_type": "execute_result",
          "data": {
            "text/plain": [
              "-1"
            ]
          },
          "metadata": {
            "tags": []
          },
          "execution_count": 17
        }
      ]
    },
    {
      "cell_type": "code",
      "metadata": {
        "colab": {
          "base_uri": "https://localhost:8080/"
        },
        "id": "lDMKXtO5L5cr",
        "outputId": "ceea9b71-baac-4243-e949-882f5d1cb146"
      },
      "source": [
        "15 % 4"
      ],
      "execution_count": null,
      "outputs": [
        {
          "output_type": "execute_result",
          "data": {
            "text/plain": [
              "3"
            ]
          },
          "metadata": {
            "tags": []
          },
          "execution_count": 16
        }
      ]
    },
    {
      "cell_type": "code",
      "metadata": {
        "colab": {
          "base_uri": "https://localhost:8080/"
        },
        "id": "ewvv1gVAL5ST",
        "outputId": "86a81649-e464-447b-c2ce-462ab95ec31c"
      },
      "source": [
        "-15 % 4"
      ],
      "execution_count": null,
      "outputs": [
        {
          "output_type": "execute_result",
          "data": {
            "text/plain": [
              "1"
            ]
          },
          "metadata": {
            "tags": []
          },
          "execution_count": 15
        }
      ]
    },
    {
      "cell_type": "code",
      "metadata": {
        "colab": {
          "base_uri": "https://localhost:8080/"
        },
        "id": "ui5emt-NL5HK",
        "outputId": "2b074808-a3d0-44e3-944f-1ad2b8e9efd0"
      },
      "source": [
        "-15 % -4"
      ],
      "execution_count": null,
      "outputs": [
        {
          "output_type": "execute_result",
          "data": {
            "text/plain": [
              "-3"
            ]
          },
          "metadata": {
            "tags": []
          },
          "execution_count": 14
        }
      ]
    },
    {
      "cell_type": "code",
      "metadata": {
        "colab": {
          "base_uri": "https://localhost:8080/"
        },
        "id": "FknRLJGVGOw-",
        "outputId": "bf484f06-6b11-412d-ccbc-83daf3f318cb"
      },
      "source": [
        "2**90 % 91 #Remainder when 2^90/91"
      ],
      "execution_count": null,
      "outputs": [
        {
          "output_type": "execute_result",
          "data": {
            "text/plain": [
              "64"
            ]
          },
          "metadata": {
            "tags": []
          },
          "execution_count": 51
        }
      ]
    },
    {
      "cell_type": "code",
      "metadata": {
        "colab": {
          "base_uri": "https://localhost:8080/"
        },
        "id": "taHHe_OmGSRS",
        "outputId": "9207dbd1-1c51-4e53-b56e-f440ea092f32"
      },
      "source": [
        "len(range(13,1000,13)) #Number of multiples of 13 between 1 and 1000"
      ],
      "execution_count": null,
      "outputs": [
        {
          "output_type": "execute_result",
          "data": {
            "text/plain": [
              "76"
            ]
          },
          "metadata": {
            "tags": []
          },
          "execution_count": 50
        }
      ]
    },
    {
      "cell_type": "code",
      "metadata": {
        "colab": {
          "base_uri": "https://localhost:8080/"
        },
        "id": "3HHdKhJCM_XO",
        "outputId": "a351b870-8d41-451e-a9ca-5457ee8b6f50"
      },
      "source": [
        "L1 = list(range(1,1000))\n",
        "Mult13_count, Not = 0,0\n",
        "Even_count, Odd_count = 0,0\n",
        "for i in L1:\n",
        "  if i % 13 == 0:\n",
        "    Mult13_count += 1\n",
        "    if i % 2 == 0:\n",
        "      Even_count += 1\n",
        "    else:\n",
        "      Odd_count += 1\n",
        "  else:\n",
        "    Not += 1\n",
        "print(Mult13_count, \"multiples of 13 between 1 and 1000.\")\n",
        "print(Odd_count, \"odd multiples of 13 between 1 and 1000.\")\n"
      ],
      "execution_count": null,
      "outputs": [
        {
          "output_type": "stream",
          "text": [
            "76 multiples of 13 between 1 and 1000.\n",
            "38 odd multiples of 13 between 1 and 1000.\n"
          ],
          "name": "stdout"
        }
      ]
    },
    {
      "cell_type": "code",
      "metadata": {
        "colab": {
          "base_uri": "https://localhost:8080/"
        },
        "id": "cSBZMeE8R4_3",
        "outputId": "d2e0eaa5-0ab5-483f-eb6e-d1eb11e469cb"
      },
      "source": [
        "L=[1,2,3]\n",
        "Sum = 0\n",
        "for i in L:\n",
        "   Sum = Sum + i\n",
        "print(\"The sum from 1 to 1000 is\", Sum)"
      ],
      "execution_count": null,
      "outputs": [
        {
          "output_type": "stream",
          "text": [
            "The sum from 1 to 1000 is 6\n"
          ],
          "name": "stdout"
        }
      ]
    },
    {
      "cell_type": "code",
      "metadata": {
        "colab": {
          "base_uri": "https://localhost:8080/"
        },
        "id": "VC96tZbE_2N8",
        "outputId": "6b6290f0-44b1-40e1-9f50-fd609c3070b1"
      },
      "source": [
        "Sum = 0\n",
        "for i in list(range(1,1001)):\n",
        "   Sum = Sum + i\n",
        "print(\"The sum from 1 to 1000 is\", Sum)"
      ],
      "execution_count": null,
      "outputs": [
        {
          "output_type": "stream",
          "text": [
            "The sum from 1 to 1000 is 500500\n"
          ],
          "name": "stdout"
        }
      ]
    },
    {
      "cell_type": "code",
      "metadata": {
        "colab": {
          "base_uri": "https://localhost:8080/"
        },
        "id": "P-NVt0vnT6i6",
        "outputId": "102694f3-07b1-4730-8f3b-13db3d05f0a1"
      },
      "source": [
        "Sum_Squares = 0\n",
        "for i in list(range(1,1001)):\n",
        "  n = i*i\n",
        "  Sum_Squares = Sum_Squares + n\n",
        "print(\"The sum of the square, from 1^2 to 1000^2 is\", Sum_Squares)"
      ],
      "execution_count": null,
      "outputs": [
        {
          "output_type": "stream",
          "text": [
            "The sum of the square, from 1^2 to 1000^2 is 333833500\n"
          ],
          "name": "stdout"
        }
      ]
    },
    {
      "cell_type": "code",
      "metadata": {
        "colab": {
          "base_uri": "https://localhost:8080/"
        },
        "id": "FM_xJSKhXc19",
        "outputId": "ef7cdac9-ade4-4306-f275-ff408f68f050"
      },
      "source": [
        "Sum = 0\n",
        "for i in list(range(1,10000000)):\n",
        "  n = 1 / i**4\n",
        "  Sum = Sum + n\n",
        "print(\"The sum from 1 to 10000000 is\", Sum)"
      ],
      "execution_count": null,
      "outputs": [
        {
          "output_type": "stream",
          "text": [
            "The sum from 1 to 10000000 is 1.082323233710861\n"
          ],
          "name": "stdout"
        }
      ]
    },
    {
      "cell_type": "code",
      "metadata": {
        "colab": {
          "base_uri": "https://localhost:8080/"
        },
        "id": "t8Gk4P5kJoto",
        "outputId": "1c1af621-938d-4b4d-e42c-3669a12a1205"
      },
      "source": [
        "import math\n",
        "math.pi**4 // 1.082323233710861"
      ],
      "execution_count": null,
      "outputs": [
        {
          "output_type": "execute_result",
          "data": {
            "text/plain": [
              "90.0"
            ]
          },
          "metadata": {
            "tags": []
          },
          "execution_count": 267
        }
      ]
    },
    {
      "cell_type": "markdown",
      "metadata": {
        "id": "PP0z75xqHqVU"
      },
      "source": [
        "1. In python, the sign of the remainder, dividend % divisor, depends (is the same as) on the divisor. When both the dividend and divisor are negative, dividend % divisor yields the remainder of the dividend divided by divisor (This multiple is less than the dividend), which is also negative. Similarly, when neither the dividend or divisor are negative, dividend % divisor yields the remainder of the dividend divided by divisor (This multiple is less than the dividend), which is positive. When only one of the two (dividend or divisor) are negative, the remainder, dividend % divisor, is the closest distance of the dividend away from a multiple of the divisor. This remainder is the same sign as the divisor.\n",
        "2. The remainder when $2^{90}$ is divided by 91 is 64.\n",
        "3. There are 76 multiples of 13 between 1 and 1000.\n",
        "4. There are 38 odd multiples of 13 between 1 and 1000.\n",
        "5. The sum of the numbers from 1 to 1000 is 500500.\n",
        "6. The sum of the squares, from $1 \\cdot 1$ to $1000 \\cdot 1000$ is 333833500.\n",
        "7. C$\\approx90$"
      ]
    },
    {
      "cell_type": "markdown",
      "metadata": {
        "id": "nS9xYcpCU5yY"
      },
      "source": [
        "# Explorations\n",
        "\n",
        "Now that you have learned the basics of computation in Python and loops, we can start exploring some interesting mathematics!  We are going to look at approximation here -- some ancient questions made easier with programming."
      ]
    },
    {
      "cell_type": "markdown",
      "metadata": {
        "id": "IfPCPAu5U5yY"
      },
      "source": [
        "## Exploration 1:  Approximating square roots.\n",
        "\n",
        "We have seen how Python can do basic arithmetic -- addition, subtraction, multiplication, and division.  But what about other functions, like the square root?  In fact, Python offers a few functions for the square root, but that's not the point.  How can we compute the square root using only basic arithmetic?  \n",
        "\n",
        "Why might we care?\n",
        "\n",
        "1.  We might want to know the square root of a number with more precision than the Python function offers.\n",
        "2.  We might want to understand how the square root is computed... under the hood.\n",
        "3.  Understanding approximations of square roots and other functions is important, because we might want to approximate other functions in the future (that aren't pre-programmed for us).\n",
        "\n",
        "Here is a method for approximating the square root of a number $X$.\n",
        "\n",
        "1.  Begin with a guess $g$.\n",
        "2.  Observe that $g \\cdot (X / g) = X$.  Therefore, among the two numbers $g$ and $(X/g)$, one will be less than or equal to the square root of X, and the other will be greater than or equal to the square root.\n",
        "3.  Take the average of $g$ and $(X/g)$.  This will be closer to the square root than $g$ or $X/g$ (unless your guess is exactly right!)\n",
        "4.  Use this average as a new guess... and go back to the beginning.\n",
        "\n",
        "Now implement this in Python to approximate the square root of 2.  Use a loop, so that you can go through the approximation process 10 times or 100 times or however many you wish.  Explore the effect of different starting guesses.  Would a change in the averaging function improve the approximation?  How quickly does this converge?  How does this change if you try square roots of different positive numbers?\n",
        "\n",
        "Write your code (Python) and findings (in Markdown cells) in a readable form.  Answer the questions in complete sentences.\n",
        "\n"
      ]
    },
    {
      "cell_type": "code",
      "metadata": {
        "colab": {
          "base_uri": "https://localhost:8080/"
        },
        "id": "eO-uIQEr06Wn",
        "outputId": "35e9f5d8-05aa-4bb0-b27b-7c6c76e0105a"
      },
      "source": [
        "X = 2\n",
        "g = 1000\n",
        "for i in range(0,10):\n",
        "  g = (g + X/g)/2\n",
        "  print(g)"
      ],
      "execution_count": null,
      "outputs": [
        {
          "output_type": "stream",
          "text": [
            "500.001\n",
            "250.00249999599998\n",
            "125.00524995800046\n",
            "62.51062464301703\n",
            "31.271309602062193\n",
            "15.667632994868365\n",
            "7.897642347856357\n",
            "4.075441240519498\n",
            "2.2830928243925537\n",
            "1.5795487524060152\n"
          ],
          "name": "stdout"
        }
      ]
    },
    {
      "cell_type": "code",
      "metadata": {
        "id": "PoGqUlqoU5yY",
        "colab": {
          "base_uri": "https://localhost:8080/"
        },
        "outputId": "d49172f9-7145-49a4-fa80-6423080bf886"
      },
      "source": [
        "X = 2\n",
        "g = 1000\n",
        "for i in range(0,14):\n",
        "  g = (g + X/g)/2\n",
        "  print(g)\n"
      ],
      "execution_count": null,
      "outputs": [
        {
          "output_type": "stream",
          "text": [
            "500.001\n",
            "250.00249999599998\n",
            "125.00524995800046\n",
            "62.51062464301703\n",
            "31.271309602062193\n",
            "15.667632994868365\n",
            "7.897642347856357\n",
            "4.075441240519498\n",
            "2.2830928243925537\n",
            "1.5795487524060152\n",
            "1.4228665795786681\n",
            "1.4142398735915305\n",
            "1.4142135626178485\n",
            "1.414213562373095\n"
          ],
          "name": "stdout"
        }
      ]
    },
    {
      "cell_type": "code",
      "metadata": {
        "colab": {
          "base_uri": "https://localhost:8080/"
        },
        "id": "AWZuwaSs5JS_",
        "outputId": "120f27da-32d6-4e78-ab56-4bf9b53928e3"
      },
      "source": [
        "X = 2\n",
        "g = 1.4\n",
        "for i in range(0,10):\n",
        "  g = (g + X/g)/2\n",
        "  print(g)"
      ],
      "execution_count": null,
      "outputs": [
        {
          "output_type": "stream",
          "text": [
            "1.4142857142857141\n",
            "1.4142135642135643\n",
            "1.414213562373095\n",
            "1.414213562373095\n",
            "1.414213562373095\n",
            "1.414213562373095\n",
            "1.414213562373095\n",
            "1.414213562373095\n",
            "1.414213562373095\n",
            "1.414213562373095\n"
          ],
          "name": "stdout"
        }
      ]
    },
    {
      "cell_type": "code",
      "metadata": {
        "colab": {
          "base_uri": "https://localhost:8080/"
        },
        "id": "Bt2MR7Nf7DfE",
        "outputId": "2c25bfc5-ed50-49f1-db19-cfc8fcb4506c"
      },
      "source": [
        "X = 3\n",
        "g = 1.4\n",
        "for i in range(0,10):\n",
        "  g = (g + X/g)/2\n",
        "  print(g)"
      ],
      "execution_count": null,
      "outputs": [
        {
          "output_type": "stream",
          "text": [
            "1.7714285714285714\n",
            "1.7324884792626727\n",
            "1.7320508628525095\n",
            "1.732050807568878\n",
            "1.7320508075688772\n",
            "1.7320508075688772\n",
            "1.7320508075688772\n",
            "1.7320508075688772\n",
            "1.7320508075688772\n",
            "1.7320508075688772\n"
          ],
          "name": "stdout"
        }
      ]
    },
    {
      "cell_type": "markdown",
      "metadata": {
        "id": "gHxmSYaoc8v0"
      },
      "source": [
        "Describe your findings here.\n",
        "1. The further off the initial guess is, the more iterations required to get to the approximation of the square root of 2. If I set a relatively small number (such as 2) as my starting guess, I would get that the square root of 2 converges to 1.414213562373095 relatively quickly (within 5 iterations). If I set my starting guess to something larger (such as 1000), I would need to let my code loop over 14 iterations. Yet, the same result can still be achieved rather quickly. Therefore, the effects of different starting effects is rather small.\n",
        "2. A change in the averaging function would improve the approximation of the square root of 2. However, even with a guess that is way off (such as 1000), the square root of 2 converged fairly quickly and took only 14 iterations. Therefore, a change in the averaging function is not necessary.\n",
        "3. When I set the initial guess to 1.4, I got the same output of $\\sqrt{2} = 1.414213562373095$ within 3 iterations.\n",
        "4. For square roots of different positive numbers, the convergence is quick enough to be computed. Furthermore, the closer the intial guess, the less number of interations required to compute the convergence.  \n",
        "\n",
        "\n",
        "\n",
        "---\n",
        "\n"
      ]
    },
    {
      "cell_type": "markdown",
      "metadata": {
        "id": "fOUbCcfxU5yY"
      },
      "source": [
        "## Exploration 2:  Approximating e and pi.\n",
        "\n",
        "Now we approximate two of the most important constants in mathematics:  e and pi.  There are multiple approaches, but e is pretty easy with the series expansion of e^x.  First, approximate e by evaluating the Taylor series expansion of e^x at x=1.  I.e., remember from calculus that\n",
        "$$e^x = 1 + x + \\frac{1}{2} x^2 + \\frac{1}{3!} x^3 + \\frac{1}{4!} x^4 + \\cdots.$$\n",
        "How many terms are necessary before the float stabilizes?  Use a loop, with a running product for the factorials and running sums for the series."
      ]
    },
    {
      "cell_type": "code",
      "metadata": {
        "id": "cH0ApCftU5yY",
        "colab": {
          "base_uri": "https://localhost:8080/"
        },
        "outputId": "4f6c5c9b-7810-4cfb-8412-e62fb8b6967f"
      },
      "source": [
        "factorial = 1\n",
        "Sum = 1\n",
        "for i in range(1,20):\n",
        "  factorial = factorial * i\n",
        "  Coeff = 1/factorial\n",
        "  Sum = Sum + Coeff\n",
        "  print(\"The sum from 1 to i=\", i, \"is\", Sum)"
      ],
      "execution_count": null,
      "outputs": [
        {
          "output_type": "stream",
          "text": [
            "The sum from 1 to i= 1 is 2.0\n",
            "The sum from 1 to i= 2 is 2.5\n",
            "The sum from 1 to i= 3 is 2.6666666666666665\n",
            "The sum from 1 to i= 4 is 2.708333333333333\n",
            "The sum from 1 to i= 5 is 2.7166666666666663\n",
            "The sum from 1 to i= 6 is 2.7180555555555554\n",
            "The sum from 1 to i= 7 is 2.7182539682539684\n",
            "The sum from 1 to i= 8 is 2.71827876984127\n",
            "The sum from 1 to i= 9 is 2.7182815255731922\n",
            "The sum from 1 to i= 10 is 2.7182818011463845\n",
            "The sum from 1 to i= 11 is 2.718281826198493\n",
            "The sum from 1 to i= 12 is 2.7182818282861687\n",
            "The sum from 1 to i= 13 is 2.7182818284467594\n",
            "The sum from 1 to i= 14 is 2.71828182845823\n",
            "The sum from 1 to i= 15 is 2.718281828458995\n",
            "The sum from 1 to i= 16 is 2.718281828459043\n",
            "The sum from 1 to i= 17 is 2.7182818284590455\n",
            "The sum from 1 to i= 18 is 2.7182818284590455\n",
            "The sum from 1 to i= 19 is 2.7182818284590455\n"
          ],
          "name": "stdout"
        }
      ]
    },
    {
      "cell_type": "markdown",
      "metadata": {
        "id": "oMl5KB-GiRRG"
      },
      "source": [
        "18 terms (including the first term, 1) are necessary before the float stabilizes."
      ]
    },
    {
      "cell_type": "markdown",
      "metadata": {
        "id": "YYhT-tDRU5yY"
      },
      "source": [
        "Next we will approximate pi, which is much more interesting.  We can try a few approaches.  For a series-approach (like e), we need a series that converges to pi.  A simple example is the arctangent atan(x).  Recall (precalculus!) that $atan(1) = \\pi/4$.  Moreover, the derivative of $atan(x)$ is $1 / (1+x^2)$.  \n",
        "\n",
        "1.  Figure out the Taylor series of $1 / (1+x^2)$ near $x=0$.  Note that this is a geometric series!\n",
        "\n",
        "2.  Figure out the Taylor series of $atan(x)$ near $x=0$ by taking the antiderivative, term by term, of the above.\n",
        "\n",
        "3.  Try to estimate $\\pi$ with this series, using many terms of the series."
      ]
    },
    {
      "cell_type": "code",
      "metadata": {
        "id": "wYlwMQxBU5yY",
        "colab": {
          "base_uri": "https://localhost:8080/"
        },
        "outputId": "7482416e-a2c1-428a-f097-bdcfdb6423c9"
      },
      "source": [
        "from sympy import Symbol\n",
        "x = Symbol ('x')\n",
        "Sum = 1\n",
        "for i in range(100):\n",
        "  Power = 2*i\n",
        "  if i % 2 == 0:\n",
        "    Coeff = 1\n",
        "  else:\n",
        "    Coeff = -1\n",
        "  Sum = Sum + Coeff*x**Power\n",
        "print(\"The Taylor series of 1/(1+x^2) near x=0 is\", Sum)"
      ],
      "execution_count": null,
      "outputs": [
        {
          "output_type": "stream",
          "text": [
            "The Taylor series of 1/(1+x^2) near x=0 is -x**198 + x**196 - x**194 + x**192 - x**190 + x**188 - x**186 + x**184 - x**182 + x**180 - x**178 + x**176 - x**174 + x**172 - x**170 + x**168 - x**166 + x**164 - x**162 + x**160 - x**158 + x**156 - x**154 + x**152 - x**150 + x**148 - x**146 + x**144 - x**142 + x**140 - x**138 + x**136 - x**134 + x**132 - x**130 + x**128 - x**126 + x**124 - x**122 + x**120 - x**118 + x**116 - x**114 + x**112 - x**110 + x**108 - x**106 + x**104 - x**102 + x**100 - x**98 + x**96 - x**94 + x**92 - x**90 + x**88 - x**86 + x**84 - x**82 + x**80 - x**78 + x**76 - x**74 + x**72 - x**70 + x**68 - x**66 + x**64 - x**62 + x**60 - x**58 + x**56 - x**54 + x**52 - x**50 + x**48 - x**46 + x**44 - x**42 + x**40 - x**38 + x**36 - x**34 + x**32 - x**30 + x**28 - x**26 + x**24 - x**22 + x**20 - x**18 + x**16 - x**14 + x**12 - x**10 + x**8 - x**6 + x**4 - x**2 + 2\n"
          ],
          "name": "stdout"
        }
      ]
    },
    {
      "cell_type": "code",
      "metadata": {
        "colab": {
          "base_uri": "https://localhost:8080/"
        },
        "id": "NwEF9_bhmVwS",
        "outputId": "325eb4b5-00e3-43d7-9b64-0e1b5d07aed7"
      },
      "source": [
        "from sympy import Symbol\n",
        "x = Symbol ('x')\n",
        "Sum = 1\n",
        "for i in range(100):\n",
        "  Power = 2*i+1\n",
        "  if i % 2 == 0:\n",
        "    Coeff = 1/Power\n",
        "  else:\n",
        "    Coeff = -1/Power\n",
        "  Sum = Sum + Coeff*x**Power\n",
        "print(\"The Taylor series of atan(x) near x=0 is\", Sum)"
      ],
      "execution_count": null,
      "outputs": [
        {
          "output_type": "stream",
          "text": [
            "The Taylor series of atan(x) near x=0 is -0.0050251256281407*x**199 + 0.0050761421319797*x**197 - 0.00512820512820513*x**195 + 0.00518134715025907*x**193 - 0.00523560209424084*x**191 + 0.00529100529100529*x**189 - 0.0053475935828877*x**187 + 0.00540540540540541*x**185 - 0.00546448087431694*x**183 + 0.00552486187845304*x**181 - 0.00558659217877095*x**179 + 0.00564971751412429*x**177 - 0.00571428571428571*x**175 + 0.00578034682080925*x**173 - 0.00584795321637427*x**171 + 0.00591715976331361*x**169 - 0.00598802395209581*x**167 + 0.00606060606060606*x**165 - 0.00613496932515337*x**163 + 0.0062111801242236*x**161 - 0.00628930817610063*x**159 + 0.00636942675159236*x**157 - 0.00645161290322581*x**155 + 0.0065359477124183*x**153 - 0.00662251655629139*x**151 + 0.00671140939597315*x**149 - 0.00680272108843537*x**147 + 0.00689655172413793*x**145 - 0.00699300699300699*x**143 + 0.00709219858156028*x**141 - 0.00719424460431655*x**139 + 0.0072992700729927*x**137 - 0.00740740740740741*x**135 + 0.0075187969924812*x**133 - 0.00763358778625954*x**131 + 0.00775193798449612*x**129 - 0.0078740157480315*x**127 + 0.008*x**125 - 0.00813008130081301*x**123 + 0.00826446280991736*x**121 - 0.00840336134453781*x**119 + 0.00854700854700855*x**117 - 0.00869565217391304*x**115 + 0.00884955752212389*x**113 - 0.00900900900900901*x**111 + 0.00917431192660551*x**109 - 0.00934579439252336*x**107 + 0.00952380952380952*x**105 - 0.00970873786407767*x**103 + 0.0099009900990099*x**101 - 0.0101010101010101*x**99 + 0.0103092783505155*x**97 - 0.0105263157894737*x**95 + 0.010752688172043*x**93 - 0.010989010989011*x**91 + 0.0112359550561798*x**89 - 0.0114942528735632*x**87 + 0.0117647058823529*x**85 - 0.0120481927710843*x**83 + 0.0123456790123457*x**81 - 0.0126582278481013*x**79 + 0.012987012987013*x**77 - 0.0133333333333333*x**75 + 0.0136986301369863*x**73 - 0.0140845070422535*x**71 + 0.0144927536231884*x**69 - 0.0149253731343284*x**67 + 0.0153846153846154*x**65 - 0.0158730158730159*x**63 + 0.0163934426229508*x**61 - 0.0169491525423729*x**59 + 0.0175438596491228*x**57 - 0.0181818181818182*x**55 + 0.0188679245283019*x**53 - 0.0196078431372549*x**51 + 0.0204081632653061*x**49 - 0.0212765957446809*x**47 + 0.0222222222222222*x**45 - 0.0232558139534884*x**43 + 0.024390243902439*x**41 - 0.0256410256410256*x**39 + 0.027027027027027*x**37 - 0.0285714285714286*x**35 + 0.0303030303030303*x**33 - 0.032258064516129*x**31 + 0.0344827586206897*x**29 - 0.037037037037037*x**27 + 0.04*x**25 - 0.0434782608695652*x**23 + 0.0476190476190476*x**21 - 0.0526315789473684*x**19 + 0.0588235294117647*x**17 - 0.0666666666666667*x**15 + 0.0769230769230769*x**13 - 0.0909090909090909*x**11 + 0.111111111111111*x**9 - 0.142857142857143*x**7 + 0.2*x**5 - 0.333333333333333*x**3 + 1.0*x + 1\n"
          ],
          "name": "stdout"
        }
      ]
    },
    {
      "cell_type": "code",
      "metadata": {
        "colab": {
          "base_uri": "https://localhost:8080/"
        },
        "id": "oQccqY9tmWKE",
        "outputId": "0fcc1870-2463-4011-9297-9e847a746e32"
      },
      "source": [
        "x = symbols('x')\n",
        "Sum = 1\n",
        "for i in range(1,1000000):\n",
        "  Power = 2*i+1\n",
        "  if i % 2 == 0:\n",
        "    Coeff = 1/Power\n",
        "  else:\n",
        "    Coeff = -1/Power\n",
        "  Sum = Sum + Coeff*1**(Power)\n",
        "print(Sum)\n",
        "print(\"Using atan(1)=pi/4, pi is approximately\", Sum*4)\n"
      ],
      "execution_count": null,
      "outputs": [
        {
          "output_type": "stream",
          "text": [
            "0.7853979133974436\n",
            "Using atan(1)=pi/4, pi is approximately 3.1415916535897743\n"
          ],
          "name": "stdout"
        }
      ]
    },
    {
      "cell_type": "markdown",
      "metadata": {
        "id": "77BvRTGFU5yY"
      },
      "source": [
        "Now we'll accelerate things a bit.  There's a famous formula of Machin (1706) who computed the first hundred digits of $\\pi$.  We'll use his identity:\n",
        "\n",
        "$\\pi/4 = 4 \\cdot atan(1/5) - atan(1 / 239)$.  \n",
        "\n",
        "This isn't obvious, but there's a tedious proof using sum/difference identities in trig.\n",
        "\n",
        "Try using this formula now to approximate $\\pi$, using your Taylor series for $atan(x)$.  It should require fewer terms."
      ]
    },
    {
      "cell_type": "code",
      "metadata": {
        "id": "71EwcYnMU5yY",
        "colab": {
          "base_uri": "https://localhost:8080/"
        },
        "outputId": "8906ac42-0e06-4920-fbd2-506c8e07509e"
      },
      "source": [
        "Sum_fifth = 1/5\n",
        "for i in range(1,1000000):\n",
        "  Power = 2*i+1\n",
        "  if i % 2 == 0:\n",
        "    Coeff = 1/Power\n",
        "  else:\n",
        "    Coeff = -1/Power\n",
        "  Sum_fifth = Sum_fifth + Coeff*(1/5)**Power\n",
        "print(Sum_fifth)"
      ],
      "execution_count": null,
      "outputs": [
        {
          "output_type": "stream",
          "text": [
            "0.1973955598498808\n"
          ],
          "name": "stdout"
        }
      ]
    },
    {
      "cell_type": "code",
      "metadata": {
        "colab": {
          "base_uri": "https://localhost:8080/"
        },
        "id": "yz5sFBEpHuDs",
        "outputId": "7dd05efc-780f-465f-c792-6041c9b962b8"
      },
      "source": [
        "Sum_239 = 1/239\n",
        "for i in range(1,1000000):\n",
        "  Power = 2*i+1\n",
        "  if i % 2 == 0:\n",
        "    Coeff = 1/Power\n",
        "  else:\n",
        "    Coeff = -1/Power\n",
        "  Sum_239 = Sum_239 + Coeff*(1/239)**Power\n",
        "print(Sum_239)"
      ],
      "execution_count": null,
      "outputs": [
        {
          "output_type": "stream",
          "text": [
            "0.0041840760020747225\n"
          ],
          "name": "stdout"
        }
      ]
    },
    {
      "cell_type": "code",
      "metadata": {
        "colab": {
          "base_uri": "https://localhost:8080/"
        },
        "id": "PA4hJSficOin",
        "outputId": "801a0bce-abcc-424e-cf0f-06444549dd61"
      },
      "source": [
        "pi = 4*(4*(Sum_fifth)-Sum_239)\n",
        "print(\"According to Machin's Formula, pi is approximately\", pi)"
      ],
      "execution_count": null,
      "outputs": [
        {
          "output_type": "stream",
          "text": [
            "According to Machin's Formula, pi is approximately 3.141592653589794\n"
          ],
          "name": "stdout"
        }
      ]
    },
    {
      "cell_type": "markdown",
      "metadata": {
        "id": "NazcANnNU5yY"
      },
      "source": [
        "Now let's compare this to **Archimedes' method**.  Archimedes approximated pi by looking at the perimeters $p(n)$ and $P(n)$ of ($2^n$)-gons inscribed in and circumscribed around a unit circle.  So $p(2)$ is the perimeter of a square inscribed in the unit circle.  $P(2)$ is the perimeter of a square circumscribed around a unit circle.\n",
        "\n",
        "Archimedes proved the following (not in the formulaic language of algebra):  For all $n \\geq 2$,\n",
        "\n",
        "(P-formula)  $P(n+1) = \\frac{2  p(n) P(n)}{p(n) + P(n)}$.\n",
        "\n",
        "(p-formula)  $p(n+1) = \\sqrt{ p(n)  P(n+1) }$.\n",
        "\n",
        "1.  Compute $p(2)$ and $P(2)$.\n",
        "<br>\n",
        "$P(2) = \\frac{2p(1)P(1)}{p(1)+P(1)} = 8 $ units\n",
        "<br>\n",
        "$p(2) = \\sqrt{p(1)P(2)} = 4*\\sqrt{2}$ units\n",
        "\n",
        "2.  Use these formulas to compute $p(10)$ and $P(10)$.  Use this to get a good approximation for $\\pi$!\n",
        "$P(10) = 3.141602510256809237618896340278088683610383490333722158199929858498071461304198006674336907443963031$\n",
        "$p(10) = 3.141587725277159991479354442749678178671291386403429689951743481509136011015596290048540809651868452$\n",
        "\n",
        "We could use our previous sqrt function if you want, we'll take a fancier high-precision approach.  \"mpmath\" is a Python package for high-precision calculation.  It should be accessible through Google Colab.  You can read the full documentation at http://mpmath.org/doc/current/\n",
        "\n",
        "First we load the package and print its status."
      ]
    },
    {
      "cell_type": "code",
      "metadata": {
        "colab": {
          "base_uri": "https://localhost:8080/"
        },
        "id": "hZS0O-83kEwq",
        "outputId": "b59cae33-a781-449a-f891-d6c8227bb284"
      },
      "source": [
        "from mpmath import *\n",
        "p=4*float(sqrt(2))\n",
        "P=8\n",
        "for i in range(0):\n",
        "  P=mpf(2*p*P)/mpf(p+P)\n",
        "  p=mpf(sqrt(p*P))\n",
        "  print(P/2,p/2)\n",
        "print(P/2,p/2)\n"
      ],
      "execution_count": null,
      "outputs": [
        {
          "output_type": "stream",
          "text": [
            "4.0 2.8284271247461903\n"
          ],
          "name": "stdout"
        }
      ]
    },
    {
      "cell_type": "code",
      "metadata": {
        "colab": {
          "base_uri": "https://localhost:8080/"
        },
        "id": "Vt36FmT9WdBE",
        "outputId": "82911ead-5a9a-4732-8097-35e89f3c9652"
      },
      "source": [
        "from mpmath import *\n",
        "p=4*float(sqrt(2))\n",
        "P=8\n",
        "for i in range(8):\n",
        "  P=mpf(2*p*P)/mpf(p+P)\n",
        "  p=mpf(sqrt(p*P))\n",
        "print(P/2,p/2)"
      ],
      "execution_count": null,
      "outputs": [
        {
          "output_type": "stream",
          "text": [
            "3.141602510256809237618896340278088683610383490333722158199929858498071461304198006674336907443963031 3.141587725277159991479354442749678178671291386403429689951743481509136011015596290048540809651868452\n"
          ],
          "name": "stdout"
        }
      ]
    },
    {
      "cell_type": "code",
      "metadata": {
        "id": "uJZZ9M_PU5yZ",
        "colab": {
          "base_uri": "https://localhost:8080/"
        },
        "outputId": "bef9538c-cc79-45d0-caae-ed6596bc74dd"
      },
      "source": [
        "from mpmath import *\n",
        "print(mp)"
      ],
      "execution_count": null,
      "outputs": [
        {
          "output_type": "stream",
          "text": [
            "Mpmath settings:\n",
            "  mp.prec = 53                [default: 53]\n",
            "  mp.dps = 15                 [default: 15]\n",
            "  mp.trap_complex = False     [default: False]\n"
          ],
          "name": "stdout"
        }
      ]
    },
    {
      "cell_type": "markdown",
      "metadata": {
        "id": "17mWwbgyU5yZ"
      },
      "source": [
        "The number mp.dps is (roughly) the number of decimal digits that mpmath will keep track of in its computations.  mp.prec is the binary precision, a bit more than 3 times the decimal precision.  We can change this to whatever we want."
      ]
    },
    {
      "cell_type": "code",
      "metadata": {
        "id": "f2aNKEWeU5yZ",
        "colab": {
          "base_uri": "https://localhost:8080/"
        },
        "outputId": "99387a3f-c157-4e1e-b169-c14cf8490a32"
      },
      "source": [
        "mp.dps = 50 # Let's try 50 digits precision to start.\n",
        "print(mp)"
      ],
      "execution_count": null,
      "outputs": [
        {
          "output_type": "stream",
          "text": [
            "Mpmath settings:\n",
            "  mp.prec = 169               [default: 53]\n",
            "  mp.dps = 50                 [default: 15]\n",
            "  mp.trap_complex = False     [default: False]\n"
          ],
          "name": "stdout"
        }
      ]
    },
    {
      "cell_type": "markdown",
      "metadata": {
        "id": "AVFYKq9hU5yZ"
      },
      "source": [
        "mpmath has a nice function for square roots.  Compare this to your approximation from before!"
      ]
    },
    {
      "cell_type": "code",
      "metadata": {
        "id": "IynhKMaLU5yZ",
        "scrolled": true,
        "colab": {
          "base_uri": "https://localhost:8080/"
        },
        "outputId": "eef95fa0-88d2-425e-f0ea-f6667a4690a0"
      },
      "source": [
        "sqrt(2)  # mpf(...) stands for an mp-float."
      ],
      "execution_count": null,
      "outputs": [
        {
          "output_type": "execute_result",
          "data": {
            "text/plain": [
              "sqrt(2)"
            ]
          },
          "metadata": {
            "tags": []
          },
          "execution_count": 34
        }
      ]
    },
    {
      "cell_type": "code",
      "metadata": {
        "id": "quMwWJJ3U5yZ",
        "colab": {
          "base_uri": "https://localhost:8080/"
        },
        "outputId": "458e73aa-729b-41f8-cbdd-2c43ce183780"
      },
      "source": [
        "type(sqrt(2)) # mpmath stores numbers in its own types!"
      ],
      "execution_count": null,
      "outputs": [
        {
          "output_type": "execute_result",
          "data": {
            "text/plain": [
              "mpmath.ctx_mp_python.mpf"
            ]
          },
          "metadata": {
            "tags": []
          },
          "execution_count": 62
        }
      ]
    },
    {
      "cell_type": "code",
      "metadata": {
        "id": "3WEkkeNNU5yZ",
        "colab": {
          "base_uri": "https://localhost:8080/"
        },
        "outputId": "ed5ebe13-aa1d-4400-f94c-a574a59d1acf"
      },
      "source": [
        "4*mp.atan(1) # mpmath has the arctan built in.  This should be pretty close to pi!"
      ],
      "execution_count": null,
      "outputs": [
        {
          "output_type": "execute_result",
          "data": {
            "text/plain": [
              "mpf('3.1415926535897931')"
            ]
          },
          "metadata": {
            "tags": []
          },
          "execution_count": 3
        }
      ]
    },
    {
      "cell_type": "markdown",
      "metadata": {
        "id": "8oMFGUkiU5yZ"
      },
      "source": [
        "Now try Archimedes' approximation of pi.  Use the mpmath sqrt function along the way.  How many iterations do you need to get pi correct to 100 digits?  Compare this to the arctan-series (not the mpmath atan function) via Machin's formula."
      ]
    },
    {
      "cell_type": "code",
      "metadata": {
        "id": "ulLOs22VU5yZ",
        "colab": {
          "base_uri": "https://localhost:8080/"
        },
        "outputId": "58c8b3ac-76bf-4391-a85a-a5d6650cace4"
      },
      "source": [
        "from mpmath import *\n",
        "mp.dps=99\n",
        "p=4*mpf(sqrt(2))\n",
        "P=8\n",
        "for i in range(163):\n",
        "  P=mpf(2*p*P)/mpf(p+P)\n",
        "  p=mpf(sqrt(p*P))\n",
        "  print(P/2,p/2)\n",
        "len(str(P/2))"
      ],
      "execution_count": null,
      "outputs": [
        {
          "output_type": "stream",
          "text": [
            "3.31370849898476039041350979367758462855737500301558458541343790392585982769685631080310027462113258 3.06146745892071817382767987224319093409075649988501633147040508502036827168071753789611028273826838\n",
            "3.18259787807452811058556196231481965756560802114545571073787193320687367136443300885311849692183542 3.12144515225805228557255789563235585484306588403127692407203343191621310057479328360520494774544611\n",
            "3.1517249074292560984703206813224778333776784223744862713893158763014220393860151122075268537719552 3.13654849054593926381425804443653906755637354136001815223247935390039368925080117782755446868219391\n",
            "3.14411838524590426274197256136407149310052809935325995164134263491397539086024523553864465092473643 3.14033115695475291231711852433169013214370323364818689344784340922662013209348843662212909515524632\n",
            "3.14222362994245684538620850699631631263503343576830556356920592479584069167870219253085315318693721 3.14127725093277286806201977078821440837966326264978912982486704492709736158652596149127438022578674\n",
            "3.14175036916896645910721362797332388998853178422358338355352638256957032281570590718310464321543679 3.14151380114430107632851505945682230793531381549292800978986835116745517256525565541262378595450249\n",
            "3.14163208070318180571871518787114766909716102098541353220131003071278247136368947426004798844850067 3.14157294036709138413580011027076142953363779450436063064701967408979172068888822056983203135965166\n",
            "3.14160251025680894676368965849266001179227345810259658340932984544272226854166180135434177232117615 3.14158772527715970062885426270191873939928085857484328667842140055121670453314678150767919448010228\n",
            "3.14159511774958905035309223598169594543611109596205096415196831049024971661654698767389059454346072 3.14159142151119997399797176374083395574756265008618079767523260035021780653208072366774216964062642\n",
            "3.14159326962930731078945878682797576435643237997117774039135658976251918006907832060915330663420369 3.14159234557011774234037599415736993030520607565120380802830830785245661241380115537006824105948563\n",
            "3.14159280759964457652825443596058346351174698641210637934021446094084286879343215933609236765560378 3.14159257658487266568160609223787530973205327843113798116511252296308544528645409758483406890115217\n",
            "3.14159269209225437422841955718088385878551822004344910793288645791027741268981071867259329718271977 3.14159263433856298909547826362779129395403217074845857177590823611732831483170596013410315319089746\n",
            "3.14159266321540841623217919009007384043462538580697503815928899202461198690941206083605870100895666 3.14159264877698566948510796927717707569776600190632062375258240685939973498998892541163666260143504\n",
            "3.14159265599619702626928316277128760036621901717952022435309009031966586856583019247074875900201236 3.14159265238659134580352552105796388433865524417442108296229090916273004141042252063989277038273929\n",
            "3.14159265419139418499956931883584370262528997944885539439332439376579385198301568565087491974865068 3.14159265328899276527194304217374000346057603752565574989757921350304364397424876058011512545521933\n",
            "3.14159265374019347507095399160890296096132398947375825401875312626203351629566653722283690727568841 3.14159265351459312016334824328108043265165951982284284917181507808930323133189322634063302627655488\n",
            "3.14159265362739329761310098063972575019763441334695762409122070718289881321718729410084379775527721 3.14159265357099320888771834485977211469151751535072379370650510388606381732030976618635788116414762\n",
            "3.1415926535991932532501565291994311718619298813406232593940458572761155179459893174937504524154294 3.14159265358509323106890579533581234924440819423328266788262974022438427172067749398037715997697928\n",
            "3.14159265359214324215951534142072707803363501484021197507470407818629816571815651863223250861900002 3.14159265358861823661420859077240788498096290246722886367100437671244917599896448757522130080421785\n",
            "3.14159265359038073938686097729363656662352935338754130218009541292578300853503434995852766503682775 3.14159265358949948800053466043265586154578872493753066792987577008260832960739649579563598683449208\n",
            "3.14159265358994011369369775706296303194776252119524770463886073070155534795196734095762263781964142 3.14159265358971980084711620102278654898128877390904595687952866278676736963291911495543445095077447\n",
            "3.14159265358982995727040697518036334158164678834109459328788066659940215454660411098204795371735099 3.1415926535897748790587615876187610141711333177172601125770635374960522784833651555517609691792833\n",
            "3.14159265358980241816458428115815521232122070515914132452258855823489762058539569770404546937444341 3.14159265358978864861167293435828224255178123973559576759204032562146477434604046884217087351151127\n",
            "3.14159265358979553338812860774313079208930305353097027452939013186622015059836818594922028625092105 3.14159265358979209099990077104882052540214241296843869887892431385742661207801537964820579368619731\n",
            "3.14159265358979381219401468939503266278652286590064020379999678124621728756978063881696338618063537 3.14159265358979295159695773022180871959943265611277681381642770120717665540560999727268714068637306\n",
            "3.1415926535897933818954862098083617539455277693377546568933635570994043866574696933169045208336471 3.14159265358979316674622197001507786961654896376816010383178934266145526752349423323411006881807123\n",
            "3.14159265358979327432085408991171612820307274207427843127050249007436705984145335594605760632404139 3.14159265358979322053353802996339653846256514986140804891410932449755170137029857115180630346682289\n",
            "3.14159265358979324742719605993755610310919609443793565994049822359209486703885202522833268818479675 3.14159265358979323398036704495047629200792776570843377643956957378784506659258825684370263532457144\n",
            "3.1415926535897932407037815524440161831695855018525656484018966518777516718994358111153120172238646 3.14159265358979323734207429869724623579013458025292233447114160948447031044075695849561828352091464\n",
            "3.14159265358979323902292792557063120858054901428895530198056290796501369426424117844580786787199908 3.14159265358979323818250111213393872207292791892546523213407531920559232791824579670963287345856668\n",
            "3.14159265358979323860271451885228496527053152743447347400391251146569796657340136322376592863019383 3.14159265358979323839260781549311184366470385578337725393872773988820018055006388820328300274048141\n",
            "3.14159265358979323849766116717269840446410475791062931440606956713510111822479481299570329800724917 3.14159265358979323844513449133290512406396519013471627797676435947231818096826083036845880600505489\n",
            "3.14159265358979323847139782925280176426381541566652929309359798080251020488711459221237181832348948 3.14159265358979323845826616029285344416386285810610484764795414147755173930772899067927252151608254\n",
            "3.14159265358979323846483199477282760421382541448905810142716251813070078887338260373384786036772999 3.14159265358979323846154907753284052418884242099792410341960664230534729551518711638641496371263894\n",
            "3.14159265358979323846319053615283406420133306009366241686440873602051894921263083484777030108110199 3.14159265358979323846236980684283729419508763333956467444713570872226666237132153836599670793159664\n",
            "3.141592653589793238462780171497835679198210293113499252808336232144057769409839191656303442894074 3.14159265358979323846257498917033648669664895652614267702180647165605817504015885495327116494323516\n",
            "3.14159265358979323846267758033408608294742962146962632161210660251139654857500946708326923642163894 3.14159265358979323846262628475221128482203928857911016890408594341016519695598149171418893235149994\n",
            "3.14159265358979323846265193254314868388473445481498108005166097612399808091430697597805440946032638 3.14159265358979323846263910864767998435338687167087222882706904766248411047100576506265621918397731\n",
            "3.14159265358979323846264552059541433411906066322983995661396280584094230475081546161661268157451488 3.1415926535897932384626423146215471592362237674487202554923406509951758637512626886976684788270466\n",
            "3.14159265358979323846264391760848074667764221533846218743906409053979041190387493042190743962957764 3.14159265358979323846264311611501395295693299139348898163894141603269955386242457567055572068099363\n",
            "3.14159265358979323846264351686174734981728760336592446462562227591885319089405669575139280221295291 3.14159265358979323846264331648838065138711029737970033314310928630485239838082667986478616270455796\n",
            "3.14159265358979323846264341667506400060219895037280920388977950127639080763863282019202320404584975 3.14159265358979323846264336658172232599465462387625436914212110881118885463489774589382869151890902\n",
            "3.14159265358979323846264339162839316329842678712453158682878866255407345694934768894918526077545544 3.14159265358979323846264337910505774464654070550039295302455968037141660901869581666474926984858734\n",
            "3.14159265358979323846264338536672545397248374631246225744622656880713775959730827755317508886461806 3.14159265358979323846264338223589159930951222590642760367533717425732627513466286736637815541907214\n",
            "3.14159265358979323846264338380130852664099798610944492978075389636625656277931598219980627699654691 3.14159265358979323846264338301860006297525510600793626663054203841604448713365572607347311053524717\n",
            "3.14159265358979323846264338340995429480812654605869059815689621894327705904481900477575704197373254 3.14159265358979323846264338321427717889169082603331343238762516012367658985027900925564345083469742\n",
            "3.14159265358979323846264338331211573684990868604600201526921370525548473282806982893111954152313308 3.14159265358979323846264338326319645787079975603965772382803855965483164988673952183282670035087733\n",
            "3.14159265358979323846264338328765609736035422104282986954843569593778368563118722675169424033281147 3.14159265358979323846264338327542627761557698854124379668821332323163585454318619321347588827072795\n",
            "3.1415926535897932384626433832815411874879656047920368331183126073023738634792981194431927500991775 3.14159265358979323846264338327848373255177129666664031490326147748171287068525608251091028425344757\n",
            "3.14159265358979323846264338328001246001986845072933857401078629849939737291928406406833949934857506 3.1415926535897932384626433832792480962858198736979894444570237950039743725318959436760358896404163\n",
            "3.14159265358979323846264338327963027815284416221366400923390500025839549809040293906539319340854215 3.14159265358979323846264338327943918721933201795582672684546439181952363848175105826986522888979554\n",
            "3.14159265358979323846264338327953473268608809008474536803968469313312891987137780711720455483173863 3.14159265358979323846264338327948695995271005402028604744257454211309744812472703374973180982110488\n",
            "3.14159265358979323846264338327951084631939907205251570774112961744149876847213372096156664130658927 3.14159265358979323846264338327949890313605456303640087759185207975459630635769053992166153293636827\n",
            "3.14159265358979323846264338327950487472772681754445829266649084858669663644454221172462024080773935 3.14159265358979323846264338327950188893189069029042958512917146416922760877982013598351665608283638\n",
            "3.14159265358979323846264338327950338182980875391744393889783115637725269130153305393425633305067915 3.14159265358979323846264338327950263538084972210393676201350131027315147112684557996890998014243168\n",
            "3.14159265358979323846264338327950300860532923801069035045566623332515774175727380945659489938439237 3.14159265358979323846264338327950282199308948005731355623458377179914906400994525627587890761189165\n",
            "3.14159265358979323846264338327950291529920935903400195334512500256215063166755231364780013742238182 3.14159265358979323846264338327950286864614941954565775478985438718064950143674163255953492675766671\n",
            "3.14159265358979323846264338327950289197267938928982985406748969487139989335114339690251523421028925 3.1415926535897932384626433832795028803094144044177438044286720410260246757438170677058810432490111\n",
            "3.14159265358979323846264338327950288614104689685378682924808086794871227372241750879162612011216674 3.14159265358979323846264338327950288322523065063576531683837645448736847337998444780968207935340349\n",
            "3.1415926535897932384626433832795028846831387737447760730432286612180403728746345580811183485691924 3.14159265358979323846264338327950288395418471219027069494080255785270442304273870041795824506584886\n",
            "3.14159265358979323846264338327950288431866174296752338399201560953537239791640122798581731236979608 3.1415926535897932384626433832795028841364232275788970394664090836940384104742842890439226556618569\n",
            "3.14159265358979323846264338327950288422754248527321021172921234661470540419269992093588742248784371 3.14159265358979323846264338327950288418198285642605362559781071515437190733316175029253221888385246\n",
            "3.14159265358979323846264338327950288420476267084963191866351153088453865576276565826552341059034916 3.14159265358979323846264338327950288419337276363784277213066112301945528154794305711044201347516344\n",
            "3.14159265358979323846264338327950288419906771724373734539708632695199696865534403410368981140178762 3.14159265358979323846264338327950288419622024044079005876387372498572612510164225515902929985960444\n",
            "3.14159265358979323846264338327950288419764397884226370208048002596886154687849249940734124934126049 3.14159265358979323846264338327950288419693210964152688042217687547729383599006729663018298631425302\n",
            "3.14159265358979323846264338327950288419728804424189529125132845072307769143427985769226097368466703 3.14159265358979323846264338327950288419711007694171108583675266310018576371217357212040933698157381\n",
            "3.14159265358979323846264338327950288419719906059180318854404055691163172757322671238592883382417732 3.14159265358979323846264338327950288419715456876675713719039661000590874564270014193811829521425768\n",
            "3.14159265358979323846264338327950288419717681467928016286721858345877023660796342700449816942490855 3.1415926535897932384626433832795028841971656917230186500288075967323394911253317844516175579327945\n",
            "3.14159265358979323846264338327950288419717125320114940644801309009555486386664760571821252648545722 3.14159265358979323846264338327950288419716847246208402823841034341394717749598969508368437505995157\n",
            "3.14159265358979323846264338327950288419716986283161671734321171675475102068131865040033311719811725 3.14159265358979323846264338327950288419716916764685037279081103008434909908865417274193182943221101\n",
            "3.14159265358979323846264338327950288419716951523923354506701137341955005988498641157109401496675243 3.14159265358979323846264338327950288419716934144304195892891120175194957948682029215650811490593026\n",
            "3.14159265358979323846264338327950288419716942834113775199796128758574981968590335186379866128956562 3.14159265358979323846264338327950288419716938489208985546343624466884969958636182201015308764190097\n",
            "3.14159265358979323846264338327950288419716940661661380373069876612729975963613258693697572423780981 3.14159265358979323846264338327950288419716939575435182959706750539807472961124720447356438716136496\n",
            "3.14159265358979323846264338327950288419716940118548281666388313576268724462368989570527004631034217 3.14159265358979323846264338327950288419716939846991732313047532058038098711746855008941721556219791\n",
            "3.14159265358979323846264338327950288419716939982770006989717922817153411587057922289734363034944221 3.14159265358979323846264338327950288419716939914880869651382727437595755149402388649338042288246658\n",
            "3.14159265358979323846264338327950288419716939948825438320550325127374583368230155469536202657927766 3.14159265358979323846264338327950288419716939931853153985966526282485169258816272059437122472628753\n",
            "3.1415926535897932384626433832795028841971693994033929615325842570492987631352321376448666256504903 3.14159265358979323846264338327950288419716939936096225069612475993707522786169742911961892518810238\n",
            "3.14159265358979323846264338327950288419716939938217760611435450849318699549846478338224277541915307 3.14159265358979323846264338327950288419716939937156992840523963421513111168008110625093085030360981\n",
            "3.14159265358979323846264338327950288419716939937687376725979707135415905358927294481658681286137249 3.14159265358979323846264338327950288419716939937422184783251835278464508263467702553375883158249003\n",
            "3.1415926535897932384626433832795028841971693993755478075461577120694020681119749851751728222219307 3.14159265358979323846264338327950288419716939937488482768933803242702357537332600535446582690221029\n",
            "3.14159265358979323846264338327950288419716939937521631761774787224821282174265049526481932456207046 3.14159265358979323846264338327950288419716939937505057265354295233761819855798825030964257573214037\n",
            "3.14159265358979323846264338327950288419716939937513344513564541229291551015031937278723095014710541 3.14159265358979323846264338327950288419716939937509200889459418231526685435415381154843676293962289\n",
            "3.14159265358979323846264338327950288419716939937511272701511979730409118225223659216783385654336415 3.14159265358979323846264338327950288419716939937510236795485698980967901830319520185813530974149352\n",
            "3.14159265358979323846264338327950288419716939937510754748498839355688510027771589701298458314242884 3.14159265358979323846264338327950288419716939937510495771992269168328205929045554943555994644196118\n",
            "3.14159265358979323846264338327950288419716939937510625260245554262008357978408572322427226479219501 3.1415926535897932384626433832795028841971693993751056051611891171516828195372706363299161056170781\n",
            "3.14159265358979323846264338327950288419716939937510592888182232988588319966067817977709418520463655 3.14159265358979323846264338327950288419716939937510576702150572351878300959897440805350514541085733\n",
            "3.14159265358979323846264338327950288419716939937510584795166402670233310462982629391529966530774694 3.14159265358979323846264338327950288419716939937510580748658487511055805711440035098440240535930213\n",
            "3.14159265358979323846264338327950288419716939937510582771912445090644558087211332244985103533352454 3.14159265358979323846264338327950288419716939937510581760285466300850181899325683671712672034641333\n",
            "3.14159265358979323846264338327950288419716939937510582266098955695747369993268507958348887783996894 3.14159265358979323846264338327950288419716939937510582013192210998298775946297095815030779909319113\n",
            "3.14159265358979323846264338327950288419716939937510582139645583347023072969782801886689833846658004 3.14159265358979323846264338327950288419716939937510582076418897172660924458039948850860306877988559\n",
            "3.14159265358979323846264338327950288419716939937510582108032240259841998713911375368775070362323281 3.1415926535897932384626433832795028841971693993751058209222556871625146158597566210981768862015592\n",
            "3.141592653589793238462643383279502884197169399375105821001289044880467301499435187392963794912396 3.1415926535897932384626433832795028841971693993751058209617723660214909586795959042455703405569776\n",
            "3.1415926535897932384626433832795028841971693993751058209815307054509791300895155458192670677346868 3.1415926535897932384626433832795028841971693993751058209716515357362350443845557250324187041458322\n",
            "3.1415926535897932384626433832795028841971693993751058209765911205936070872370356354258428859402595 3.14159265358979323846264338327950288419716939937510582097412132816492106581079568022913079504304585\n",
            "3.14159265358979323846264338327950288419716939937510582097535622437926407652391565782748684049165268 3.14159265358979323846264338327950288419716939937510582097473877627209257116735566902830881776734926\n",
            "3.14159265358979323846264338327950288419716939937510582097504750032567832384563566342789782912950097 3.14159265358979323846264338327950288419716939937510582097489313829888544750649566622810332344842512\n",
            "3.14159265358979323846264338327950288419716939937510582097497031931228188567606566482800057628896304 3.14159265358979323846264338327950288419716939937510582097493172880558366659128066552805194986869408\n",
            "3.14159265358979323846264338327950288419716939937510582097495102405893277613367316517802626307882856 3.14159265358979323846264338327950288419716939937510582097494137643225822136247691535303910647376132\n",
            "3.14159265358979323846264338327950288419716939937510582097494620024559549874807504026553268477629494 3.14159265358979323846264338327950288419716939937510582097494378833892686005527597780928589562502813\n",
            "3.14159265358979323846264338327950288419716939937510582097494499429226117940167550903740929020066154 3.14159265358979323846264338327950288419716939937510582097494439131559401972847574342334759291284483\n",
            "3.14159265358979323846264338327950288419716939937510582097494469280392759956507562623037844155675319 3.14159265358979323846264338327950288419716939937510582097494454205976080964677568482686301723479901\n",
            "3.1415926535897932384626433832795028841971693993751058209749446174318442046059256555286207293957761 3.14159265358979323846264338327950288419716939937510582097494457974580250712635067017774187331528755\n",
            "3.14159265358979323846264338327950288419716939937510582097494459858882335586613816285318130135553183 3.14159265358979323846264338327950288419716939937510582097494458916731293149624441651546158733540969\n",
            "3.14159265358979323846264338327950288419716939937510582097494459387806814368119128968432144434547076 3.14159265358979323846264338327950288419716939937510582097494459152269053758871785309989151584044022\n",
            "3.14159265358979323846264338327950288419716939937510582097494459270037934063495457139210648009295549 3.14159265358979323846264338327950288419716939937510582097494459211153493911183621224599899796669786\n",
            "3.14159265358979323846264338327950288419716939937510582097494459240595713987339539181905273902982667 3.14159265358979323846264338327950288419716939937510582097494459225874603949261580203252586849826227\n",
            "3.14159265358979323846264338327950288419716939937510582097494459233235158968300559692578930376404447 3.14159265358979323846264338327950288419716939937510582097494459229554881458781069947915758613115337\n",
            "3.14159265358979323846264338327950288419716939937510582097494459231395020213540814820247344494759892 3.14159265358979323846264338327950288419716939937510582097494459230474950836160942384081551553937614\n",
            "3.14159265358979323846264338327950288419716939937510582097494459230934985524850878602164448024348753 3.14159265358979323846264338327950288419716939937510582097494459230704968180505910493122999789143184\n",
            "3.14159265358979323846264338327950288419716939937510582097494459230819976852678394547643723906745968 3.14159265358979323846264338327950288419716939937510582097494459230762472516592152520383361847944576\n",
            "3.14159265358979323846264338327950288419716939937510582097494459230791224684635273534013542877345272 3.14159265358979323846264338327950288419716939937510582097494459230776848600613713027198452362644924\n",
            "3.14159265358979323846264338327950288419716939937510582097494459230784036642624493280605997619995098 3.14159265358979323846264338327950288419716939937510582097494459230780442621619103153902224991320011\n",
            "3.14159265358979323846264338327950288419716939937510582097494459230782239632121798217254111305657555 3.14159265358979323846264338327950288419716939937510582097494459230781341126870450685578168148488783\n",
            "3.14159265358979323846264338327950288419716939937510582097494459230781790379496124451416139727073169 3.14159265358979323846264338327950288419716939937510582097494459230781565753183287568497153937780976\n",
            "3.14159265358979323846264338327950288419716939937510582097494459230781678066339706009956646832427072 3.14159265358979323846264338327950288419716939937510582097494459230781621909761496789226900385104024\n",
            "3.14159265358979323846264338327950288419716939937510582097494459230781649988050601399591773608765548 3.14159265358979323846264338327950288419716939937510582097494459230781635948906049094409336996934786\n",
            "3.14159265358979323846264338327950288419716939937510582097494459230781642968478325247000555302850167 3.14159265358979323846264338327950288419716939937510582097494459230781639458692187170704946149892477\n",
            "3.14159265358979323846264338327950288419716939937510582097494459230781641213585256208852750726371322 3.14159265358979323846264338327950288419716939937510582097494459230781640336138721689778848438131899\n",
            "3.14159265358979323846264338327950288419716939937510582097494459230781640774861988949315799582251611 3.14159265358979323846264338327950288419716939937510582097494459230781640555500355319547324010191755\n",
            "3.14159265358979323846264338327950288419716939937510582097494459230781640665181172134431561796221683 3.14159265358979323846264338327950288419716939937510582097494459230781640610340763726989442903206719\n",
            "3.14159265358979323846264338327950288419716939937510582097494459230781640637760967930710502349714201 3.1415926535897932384626433832795028841971693993751058209749445923078164062405086582884997262646046\n",
            "3.1415926535897932384626433832795028841971693993751058209749445923078164063090591687978023748808733 3.14159265358979323846264338327950288419716939937510582097494459230781640627478391354315105057273895\n",
            "3.14159265358979323846264338327950288419716939937510582097494459230781640629192154117047671272680613 3.14159265358979323846264338327950288419716939937510582097494459230781640628335272735681388164977254\n",
            "3.14159265358979323846264338327950288419716939937510582097494459230781640628763713426364529718828933 3.14159265358979323846264338327950288419716939937510582097494459230781640628549493081022958941903094\n",
            "3.14159265358979323846264338327950288419716939937510582097494459230781640628656603253693744330366014 3.14159265358979323846264338327950288419716939937510582097494459230781640628603048167358351636134554\n",
            "3.14159265358979323846264338327950288419716939937510582097494459230781640628629825710526047983250284 3.14159265358979323846264338327950288419716939937510582097494459230781640628616436938942199809692419\n",
            "3.14159265358979323846264338327950288419716939937510582097494459230781640628623131324734123896471351 3.14159265358979323846264338327950288419716939937510582097494459230781640628619784131838161853081885\n",
            "3.14159265358979323846264338327950288419716939937510582097494459230781640628621457728286142874776618 3.14159265358979323846264338327950288419716939937510582097494459230781640628620620930062152363929251\n",
            "3.14159265358979323846264338327950288419716939937510582097494459230781640628621039329174147619352935 3.14159265358979323846264338327950288419716939937510582097494459230781640628620830129618149991641093\n",
            "3.14159265358979323846264338327950288419716939937510582097494459230781640628620934729396148805497014 3.14159265358979323846264338327950288419716939937510582097494459230781640628620882429507149398569053\n",
            "3.14159265358979323846264338327950288419716939937510582097494459230781640628620908579451649102033034 3.14159265358979323846264338327950288419716939937510582097494459230781640628620895504479399250301044\n",
            "3.14159265358979323846264338327950288419716939937510582097494459230781640628620902041965524176167039 3.14159265358979323846264338327950288419716939937510582097494459230781640628620898773222461713234041\n",
            "3.1415926535897932384626433832795028841971693993751058209749445923078164062862090040759399294470054 3.1415926535897932384626433832795028841971693993751058209749445923078164062862089959040822732896729\n",
            "3.14159265358979323846264338327950288419716939937510582097494459230781640628620899999001110136833915 3.14159265358979323846264338327950288419716939937510582097494459230781640628620899794704668732900603\n",
            "3.14159265358979323846264338327950288419716939937510582097494459230781640628620899896852889434867259 3.14159265358979323846264338327950288419716939937510582097494459230781640628620899845778779083883931\n",
            "3.14159265358979323846264338327950288419716939937510582097494459230781640628620899871315834259375595 3.14159265358979323846264338327950288419716939937510582097494459230781640628620899858547306671629763\n",
            "3.14159265358979323846264338327950288419716939937510582097494459230781640628620899864931570465502679 3.14159265358979323846264338327950288419716939937510582097494459230781640628620899861739438568566221\n",
            "3.1415926535897932384626433832795028841971693993751058209749445923078164062862089986333550451703445 3.14159265358979323846264338327950288419716939937510582097494459230781640628620899862537471542800335\n",
            "3.14159265358979323846264338327950288419716939937510582097494459230781640628620899862936488029917393 3.14159265358979323846264338327950288419716939937510582097494459230781640628620899862736979786358864\n",
            "3.14159265358979323846264338327950288419716939937510582097494459230781640628620899862836733908138128 3.14159265358979323846264338327950288419716939937510582097494459230781640628620899862786856847248496\n",
            "3.14159265358979323846264338327950288419716939937510582097494459230781640628620899862811795377693312 3.14159265358979323846264338327950288419716939937510582097494459230781640628620899862799326112470904\n",
            "3.14159265358979323846264338327950288419716939937510582097494459230781640628620899862805560745082108 3.14159265358979323846264338327950288419716939937510582097494459230781640628620899862802443428776506\n",
            "3.14159265358979323846264338327950288419716939937510582097494459230781640628620899862804002086929307 3.14159265358979323846264338327950288419716939937510582097494459230781640628620899862803222757852907\n",
            "3.14159265358979323846264338327950288419716939937510582097494459230781640628620899862803612422391107 3.14159265358979323846264338327950288419716939937510582097494459230781640628620899862803417590122007\n",
            "3.14159265358979323846264338327950288419716939937510582097494459230781640628620899862803515006256557 3.14159265358979323846264338327950288419716939937510582097494459230781640628620899862803466298189282\n",
            "3.14159265358979323846264338327950288419716939937510582097494459230781640628620899862803490652222919 3.14159265358979323846264338327950288419716939937510582097494459230781640628620899862803478475206101\n",
            "3.1415926535897932384626433832795028841971693993751058209749445923078164062862089986280348456371451 3.14159265358979323846264338327950288419716939937510582097494459230781640628620899862803481519460305\n",
            "3.14159265358979323846264338327950288419716939937510582097494459230781640628620899862803483041587408 3.14159265358979323846264338327950288419716939937510582097494459230781640628620899862803482280523857\n",
            "3.14159265358979323846264338327950288419716939937510582097494459230781640628620899862803482661055632 3.14159265358979323846264338327950288419716939937510582097494459230781640628620899862803482470789744\n",
            "3.14159265358979323846264338327950288419716939937510582097494459230781640628620899862803482565922688 3.14159265358979323846264338327950288419716939937510582097494459230781640628620899862803482518356216\n",
            "3.14159265358979323846264338327950288419716939937510582097494459230781640628620899862803482542139452 3.14159265358979323846264338327950288419716939937510582097494459230781640628620899862803482530247834\n",
            "3.14159265358979323846264338327950288419716939937510582097494459230781640628620899862803482536193643 3.14159265358979323846264338327950288419716939937510582097494459230781640628620899862803482533220739\n",
            "3.14159265358979323846264338327950288419716939937510582097494459230781640628620899862803482534707191 3.14159265358979323846264338327950288419716939937510582097494459230781640628620899862803482533963965\n",
            "3.14159265358979323846264338327950288419716939937510582097494459230781640628620899862803482534335578 3.14159265358979323846264338327950288419716939937510582097494459230781640628620899862803482534149771\n",
            "3.14159265358979323846264338327950288419716939937510582097494459230781640628620899862803482534242675 3.14159265358979323846264338327950288419716939937510582097494459230781640628620899862803482534196223\n",
            "3.14159265358979323846264338327950288419716939937510582097494459230781640628620899862803482534219449 3.14159265358979323846264338327950288419716939937510582097494459230781640628620899862803482534207836\n",
            "3.14159265358979323846264338327950288419716939937510582097494459230781640628620899862803482534213642 3.14159265358979323846264338327950288419716939937510582097494459230781640628620899862803482534210739\n",
            "3.14159265358979323846264338327950288419716939937510582097494459230781640628620899862803482534212191 3.14159265358979323846264338327950288419716939937510582097494459230781640628620899862803482534211465\n",
            "3.14159265358979323846264338327950288419716939937510582097494459230781640628620899862803482534211828 3.14159265358979323846264338327950288419716939937510582097494459230781640628620899862803482534211646\n",
            "3.14159265358979323846264338327950288419716939937510582097494459230781640628620899862803482534211737 3.14159265358979323846264338327950288419716939937510582097494459230781640628620899862803482534211692\n",
            "3.14159265358979323846264338327950288419716939937510582097494459230781640628620899862803482534211714 3.14159265358979323846264338327950288419716939937510582097494459230781640628620899862803482534211703\n",
            "3.14159265358979323846264338327950288419716939937510582097494459230781640628620899862803482534211709 3.14159265358979323846264338327950288419716939937510582097494459230781640628620899862803482534211706\n",
            "3.14159265358979323846264338327950288419716939937510582097494459230781640628620899862803482534211707 3.14159265358979323846264338327950288419716939937510582097494459230781640628620899862803482534211707\n"
          ],
          "name": "stdout"
        },
        {
          "output_type": "execute_result",
          "data": {
            "text/plain": [
              "100"
            ]
          },
          "metadata": {
            "tags": []
          },
          "execution_count": 42
        }
      ]
    },
    {
      "cell_type": "code",
      "metadata": {
        "id": "cjykB54UjDBu"
      },
      "source": [
        "We need 163 iterations to get pi correct to 100 digits."
      ],
      "execution_count": null,
      "outputs": []
    },
    {
      "cell_type": "code",
      "metadata": {
        "colab": {
          "base_uri": "https://localhost:8080/"
        },
        "id": "Bo0nzzbXG7Vr",
        "outputId": "b50b8c6a-0531-4ba4-cefd-1607f98d620a"
      },
      "source": [
        "pi = 4*(4*(Sum_fifth)-Sum_239)\n",
        "print(\"According to Machin's Formula, pi is approximately\", pi)"
      ],
      "execution_count": null,
      "outputs": [
        {
          "output_type": "stream",
          "text": [
            "According to Machin's Formula, pi is approximately 3.141592653589794\n"
          ],
          "name": "stdout"
        }
      ]
    },
    {
      "cell_type": "code",
      "metadata": {
        "id": "KgK3IzMFjsm-"
      },
      "source": [
        "This value (from Machin's Formula) rounds up at the 15th decimal point."
      ],
      "execution_count": null,
      "outputs": []
    }
  ]
}